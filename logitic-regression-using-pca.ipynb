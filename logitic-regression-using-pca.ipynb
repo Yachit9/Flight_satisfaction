{
 "cells": [
  {
   "cell_type": "markdown",
   "id": "e555800a",
   "metadata": {
    "papermill": {
     "duration": 0.009228,
     "end_time": "2024-06-30T08:53:22.506474",
     "exception": false,
     "start_time": "2024-06-30T08:53:22.497246",
     "status": "completed"
    },
    "tags": []
   },
   "source": [
    "# <span style=\"color:red; font-size:30px;\">Logistics regression</span>\n",
    "\n",
    "# <span style=\"color:red; font-size:30px;\">Introduction</span>\n",
    "\n",
    "In this notebook, we will delve into binomial logistic regression, employing this method to predict a dependent variable based on one independent variable. \n",
    "\n",
    "\n",
    "The airline industry seeks insights into whether an enhanced **in-flight entertainment** experience correlates with heightened **customer satisfaction.** They've tasked us with constructing and assessing a model capable of predicting whether prospective customers would be content with their services, leveraging past customer feedback on their flight experiences.\n",
    "\n",
    "Our dataset encompasses information from 1**29,880 customers**, featuring variables such as **class, flight distance, and in-flight entertainment**, among others. Our objective is to employ **binomial logistic regression** to model and gain deeper insights into this dataset for the airline's benefit."
   ]
  },
  {
   "cell_type": "markdown",
   "id": "efd9b92a",
   "metadata": {
    "papermill": {
     "duration": 0.008411,
     "end_time": "2024-06-30T08:53:22.523576",
     "exception": false,
     "start_time": "2024-06-30T08:53:22.515165",
     "status": "completed"
    },
    "tags": []
   },
   "source": [
    "<span style=\"background-color:deepskyblue;\n",
    "             color:yellow;\n",
    "             font-size:20px;\n",
    "             text-align:center;\n",
    "               border-radius:30px 80px;\n",
    "             font-weight:bold;\n",
    "             border:2px solid yellow;\n",
    "             padding:5px 30px;\">1. Importing Libraries and loading datasets\n",
    "</span>\n"
   ]
  },
  {
   "cell_type": "code",
   "execution_count": 1,
   "id": "2227904b",
   "metadata": {
    "execution": {
     "iopub.execute_input": "2024-06-30T08:53:22.543348Z",
     "iopub.status.busy": "2024-06-30T08:53:22.543055Z",
     "iopub.status.idle": "2024-06-30T08:53:24.445781Z",
     "shell.execute_reply": "2024-06-30T08:53:24.444938Z"
    },
    "papermill": {
     "duration": 1.914831,
     "end_time": "2024-06-30T08:53:24.447874",
     "exception": false,
     "start_time": "2024-06-30T08:53:22.533043",
     "status": "completed"
    },
    "tags": []
   },
   "outputs": [],
   "source": [
    "# Standard operational package imports.\n",
    "import numpy as np\n",
    "import pandas as pd\n",
    "\n",
    "# Important imports for preprocessing, modeling, and evaluation.\n",
    "from sklearn.preprocessing import OneHotEncoder\n",
    "from sklearn.model_selection import train_test_split\n",
    "from sklearn.linear_model import LogisticRegression\n",
    "import sklearn.metrics as metrics\n",
    "\n",
    "# Visualization package imports.\n",
    "import matplotlib.pyplot as plt\n",
    "import seaborn as sns\n",
    "\n",
    "pd.options.display.max_columns=100\n",
    "pd.options.display.max_rows=100"
   ]
  },
  {
   "cell_type": "code",
   "execution_count": 2,
   "id": "db9c29fd",
   "metadata": {
    "execution": {
     "iopub.execute_input": "2024-06-30T08:53:24.468630Z",
     "iopub.status.busy": "2024-06-30T08:53:24.468243Z",
     "iopub.status.idle": "2024-06-30T08:53:24.781257Z",
     "shell.execute_reply": "2024-06-30T08:53:24.780452Z"
    },
    "papermill": {
     "duration": 0.324895,
     "end_time": "2024-06-30T08:53:24.783228",
     "exception": false,
     "start_time": "2024-06-30T08:53:24.458333",
     "status": "completed"
    },
    "tags": []
   },
   "outputs": [],
   "source": [
    "df = pd.read_csv('/kaggle/input/airline-customer-satisfaction/Airline_customer_satisfaction.csv')"
   ]
  },
  {
   "cell_type": "markdown",
   "id": "7ec040d6",
   "metadata": {
    "papermill": {
     "duration": 0.008708,
     "end_time": "2024-06-30T08:53:24.801032",
     "exception": false,
     "start_time": "2024-06-30T08:53:24.792324",
     "status": "completed"
    },
    "tags": []
   },
   "source": [
    "<span style=\"background-color:deepskyblue;\n",
    "             color:yellow;\n",
    "             font-size:20px;\n",
    "             text-align:center;\n",
    "               border-radius:40px 90px;\n",
    "             font-weight:bold;\n",
    "             border:2px solid yellow;\n",
    "             padding:15px 50px;\">2. Data Exploration (Initial EDA and data cleaning)\n",
    "</span>\n"
   ]
  },
  {
   "cell_type": "code",
   "execution_count": 3,
   "id": "89b74a56",
   "metadata": {
    "execution": {
     "iopub.execute_input": "2024-06-30T08:53:24.820302Z",
     "iopub.status.busy": "2024-06-30T08:53:24.820010Z",
     "iopub.status.idle": "2024-06-30T08:53:24.844128Z",
     "shell.execute_reply": "2024-06-30T08:53:24.843353Z"
    },
    "papermill": {
     "duration": 0.035709,
     "end_time": "2024-06-30T08:53:24.845668",
     "exception": false,
     "start_time": "2024-06-30T08:53:24.809959",
     "status": "completed"
    },
    "tags": []
   },
   "outputs": [
    {
     "data": {
      "text/html": [
       "<div>\n",
       "<style scoped>\n",
       "    .dataframe tbody tr th:only-of-type {\n",
       "        vertical-align: middle;\n",
       "    }\n",
       "\n",
       "    .dataframe tbody tr th {\n",
       "        vertical-align: top;\n",
       "    }\n",
       "\n",
       "    .dataframe thead th {\n",
       "        text-align: right;\n",
       "    }\n",
       "</style>\n",
       "<table border=\"1\" class=\"dataframe\">\n",
       "  <thead>\n",
       "    <tr style=\"text-align: right;\">\n",
       "      <th></th>\n",
       "      <th>satisfaction</th>\n",
       "      <th>Customer Type</th>\n",
       "      <th>Age</th>\n",
       "      <th>Type of Travel</th>\n",
       "      <th>Class</th>\n",
       "      <th>Flight Distance</th>\n",
       "      <th>Seat comfort</th>\n",
       "      <th>Departure/Arrival time convenient</th>\n",
       "      <th>Food and drink</th>\n",
       "      <th>Gate location</th>\n",
       "      <th>Inflight wifi service</th>\n",
       "      <th>Inflight entertainment</th>\n",
       "      <th>Online support</th>\n",
       "      <th>Ease of Online booking</th>\n",
       "      <th>On-board service</th>\n",
       "      <th>Leg room service</th>\n",
       "      <th>Baggage handling</th>\n",
       "      <th>Checkin service</th>\n",
       "      <th>Cleanliness</th>\n",
       "      <th>Online boarding</th>\n",
       "      <th>Departure Delay in Minutes</th>\n",
       "      <th>Arrival Delay in Minutes</th>\n",
       "    </tr>\n",
       "  </thead>\n",
       "  <tbody>\n",
       "    <tr>\n",
       "      <th>0</th>\n",
       "      <td>satisfied</td>\n",
       "      <td>Loyal Customer</td>\n",
       "      <td>65</td>\n",
       "      <td>Personal Travel</td>\n",
       "      <td>Eco</td>\n",
       "      <td>265</td>\n",
       "      <td>0</td>\n",
       "      <td>0</td>\n",
       "      <td>0</td>\n",
       "      <td>2</td>\n",
       "      <td>2</td>\n",
       "      <td>4</td>\n",
       "      <td>2</td>\n",
       "      <td>3</td>\n",
       "      <td>3</td>\n",
       "      <td>0</td>\n",
       "      <td>3</td>\n",
       "      <td>5</td>\n",
       "      <td>3</td>\n",
       "      <td>2</td>\n",
       "      <td>0</td>\n",
       "      <td>0.0</td>\n",
       "    </tr>\n",
       "    <tr>\n",
       "      <th>1</th>\n",
       "      <td>satisfied</td>\n",
       "      <td>Loyal Customer</td>\n",
       "      <td>47</td>\n",
       "      <td>Personal Travel</td>\n",
       "      <td>Business</td>\n",
       "      <td>2464</td>\n",
       "      <td>0</td>\n",
       "      <td>0</td>\n",
       "      <td>0</td>\n",
       "      <td>3</td>\n",
       "      <td>0</td>\n",
       "      <td>2</td>\n",
       "      <td>2</td>\n",
       "      <td>3</td>\n",
       "      <td>4</td>\n",
       "      <td>4</td>\n",
       "      <td>4</td>\n",
       "      <td>2</td>\n",
       "      <td>3</td>\n",
       "      <td>2</td>\n",
       "      <td>310</td>\n",
       "      <td>305.0</td>\n",
       "    </tr>\n",
       "    <tr>\n",
       "      <th>2</th>\n",
       "      <td>satisfied</td>\n",
       "      <td>Loyal Customer</td>\n",
       "      <td>15</td>\n",
       "      <td>Personal Travel</td>\n",
       "      <td>Eco</td>\n",
       "      <td>2138</td>\n",
       "      <td>0</td>\n",
       "      <td>0</td>\n",
       "      <td>0</td>\n",
       "      <td>3</td>\n",
       "      <td>2</td>\n",
       "      <td>0</td>\n",
       "      <td>2</td>\n",
       "      <td>2</td>\n",
       "      <td>3</td>\n",
       "      <td>3</td>\n",
       "      <td>4</td>\n",
       "      <td>4</td>\n",
       "      <td>4</td>\n",
       "      <td>2</td>\n",
       "      <td>0</td>\n",
       "      <td>0.0</td>\n",
       "    </tr>\n",
       "    <tr>\n",
       "      <th>3</th>\n",
       "      <td>satisfied</td>\n",
       "      <td>Loyal Customer</td>\n",
       "      <td>60</td>\n",
       "      <td>Personal Travel</td>\n",
       "      <td>Eco</td>\n",
       "      <td>623</td>\n",
       "      <td>0</td>\n",
       "      <td>0</td>\n",
       "      <td>0</td>\n",
       "      <td>3</td>\n",
       "      <td>3</td>\n",
       "      <td>4</td>\n",
       "      <td>3</td>\n",
       "      <td>1</td>\n",
       "      <td>1</td>\n",
       "      <td>0</td>\n",
       "      <td>1</td>\n",
       "      <td>4</td>\n",
       "      <td>1</td>\n",
       "      <td>3</td>\n",
       "      <td>0</td>\n",
       "      <td>0.0</td>\n",
       "    </tr>\n",
       "    <tr>\n",
       "      <th>4</th>\n",
       "      <td>satisfied</td>\n",
       "      <td>Loyal Customer</td>\n",
       "      <td>70</td>\n",
       "      <td>Personal Travel</td>\n",
       "      <td>Eco</td>\n",
       "      <td>354</td>\n",
       "      <td>0</td>\n",
       "      <td>0</td>\n",
       "      <td>0</td>\n",
       "      <td>3</td>\n",
       "      <td>4</td>\n",
       "      <td>3</td>\n",
       "      <td>4</td>\n",
       "      <td>2</td>\n",
       "      <td>2</td>\n",
       "      <td>0</td>\n",
       "      <td>2</td>\n",
       "      <td>4</td>\n",
       "      <td>2</td>\n",
       "      <td>5</td>\n",
       "      <td>0</td>\n",
       "      <td>0.0</td>\n",
       "    </tr>\n",
       "  </tbody>\n",
       "</table>\n",
       "</div>"
      ],
      "text/plain": [
       "  satisfaction   Customer Type  Age   Type of Travel     Class  \\\n",
       "0    satisfied  Loyal Customer   65  Personal Travel       Eco   \n",
       "1    satisfied  Loyal Customer   47  Personal Travel  Business   \n",
       "2    satisfied  Loyal Customer   15  Personal Travel       Eco   \n",
       "3    satisfied  Loyal Customer   60  Personal Travel       Eco   \n",
       "4    satisfied  Loyal Customer   70  Personal Travel       Eco   \n",
       "\n",
       "   Flight Distance  Seat comfort  Departure/Arrival time convenient  \\\n",
       "0              265             0                                  0   \n",
       "1             2464             0                                  0   \n",
       "2             2138             0                                  0   \n",
       "3              623             0                                  0   \n",
       "4              354             0                                  0   \n",
       "\n",
       "   Food and drink  Gate location  Inflight wifi service  \\\n",
       "0               0              2                      2   \n",
       "1               0              3                      0   \n",
       "2               0              3                      2   \n",
       "3               0              3                      3   \n",
       "4               0              3                      4   \n",
       "\n",
       "   Inflight entertainment  Online support  Ease of Online booking  \\\n",
       "0                       4               2                       3   \n",
       "1                       2               2                       3   \n",
       "2                       0               2                       2   \n",
       "3                       4               3                       1   \n",
       "4                       3               4                       2   \n",
       "\n",
       "   On-board service  Leg room service  Baggage handling  Checkin service  \\\n",
       "0                 3                 0                 3                5   \n",
       "1                 4                 4                 4                2   \n",
       "2                 3                 3                 4                4   \n",
       "3                 1                 0                 1                4   \n",
       "4                 2                 0                 2                4   \n",
       "\n",
       "   Cleanliness  Online boarding  Departure Delay in Minutes  \\\n",
       "0            3                2                           0   \n",
       "1            3                2                         310   \n",
       "2            4                2                           0   \n",
       "3            1                3                           0   \n",
       "4            2                5                           0   \n",
       "\n",
       "   Arrival Delay in Minutes  \n",
       "0                       0.0  \n",
       "1                     305.0  \n",
       "2                       0.0  \n",
       "3                       0.0  \n",
       "4                       0.0  "
      ]
     },
     "execution_count": 3,
     "metadata": {},
     "output_type": "execute_result"
    }
   ],
   "source": [
    "df.head()"
   ]
  },
  {
   "cell_type": "code",
   "execution_count": 4,
   "id": "7de04cd3",
   "metadata": {
    "execution": {
     "iopub.execute_input": "2024-06-30T08:53:24.864878Z",
     "iopub.status.busy": "2024-06-30T08:53:24.864570Z",
     "iopub.status.idle": "2024-06-30T08:53:24.902701Z",
     "shell.execute_reply": "2024-06-30T08:53:24.901631Z"
    },
    "papermill": {
     "duration": 0.04957,
     "end_time": "2024-06-30T08:53:24.904421",
     "exception": false,
     "start_time": "2024-06-30T08:53:24.854851",
     "status": "completed"
    },
    "tags": []
   },
   "outputs": [
    {
     "name": "stdout",
     "output_type": "stream",
     "text": [
      "<class 'pandas.core.frame.DataFrame'>\n",
      "RangeIndex: 129880 entries, 0 to 129879\n",
      "Data columns (total 22 columns):\n",
      " #   Column                             Non-Null Count   Dtype  \n",
      "---  ------                             --------------   -----  \n",
      " 0   satisfaction                       129880 non-null  object \n",
      " 1   Customer Type                      129880 non-null  object \n",
      " 2   Age                                129880 non-null  int64  \n",
      " 3   Type of Travel                     129880 non-null  object \n",
      " 4   Class                              129880 non-null  object \n",
      " 5   Flight Distance                    129880 non-null  int64  \n",
      " 6   Seat comfort                       129880 non-null  int64  \n",
      " 7   Departure/Arrival time convenient  129880 non-null  int64  \n",
      " 8   Food and drink                     129880 non-null  int64  \n",
      " 9   Gate location                      129880 non-null  int64  \n",
      " 10  Inflight wifi service              129880 non-null  int64  \n",
      " 11  Inflight entertainment             129880 non-null  int64  \n",
      " 12  Online support                     129880 non-null  int64  \n",
      " 13  Ease of Online booking             129880 non-null  int64  \n",
      " 14  On-board service                   129880 non-null  int64  \n",
      " 15  Leg room service                   129880 non-null  int64  \n",
      " 16  Baggage handling                   129880 non-null  int64  \n",
      " 17  Checkin service                    129880 non-null  int64  \n",
      " 18  Cleanliness                        129880 non-null  int64  \n",
      " 19  Online boarding                    129880 non-null  int64  \n",
      " 20  Departure Delay in Minutes         129880 non-null  int64  \n",
      " 21  Arrival Delay in Minutes           129487 non-null  float64\n",
      "dtypes: float64(1), int64(17), object(4)\n",
      "memory usage: 21.8+ MB\n"
     ]
    }
   ],
   "source": [
    "df.info()"
   ]
  },
  {
   "cell_type": "code",
   "execution_count": 5,
   "id": "5e587f2b",
   "metadata": {
    "execution": {
     "iopub.execute_input": "2024-06-30T08:53:24.924284Z",
     "iopub.status.busy": "2024-06-30T08:53:24.924018Z",
     "iopub.status.idle": "2024-06-30T08:53:24.929251Z",
     "shell.execute_reply": "2024-06-30T08:53:24.928452Z"
    },
    "papermill": {
     "duration": 0.01727,
     "end_time": "2024-06-30T08:53:24.931163",
     "exception": false,
     "start_time": "2024-06-30T08:53:24.913893",
     "status": "completed"
    },
    "tags": []
   },
   "outputs": [
    {
     "data": {
      "text/plain": [
       "(129880, 22)"
      ]
     },
     "execution_count": 5,
     "metadata": {},
     "output_type": "execute_result"
    }
   ],
   "source": [
    "df.shape"
   ]
  },
  {
   "cell_type": "markdown",
   "id": "4901c70f",
   "metadata": {
    "papermill": {
     "duration": 0.009159,
     "end_time": "2024-06-30T08:53:24.949937",
     "exception": false,
     "start_time": "2024-06-30T08:53:24.940778",
     "status": "completed"
    },
    "tags": []
   },
   "source": [
    "### <span style=\"color:red; font-size:20px;\">Checking the number of satisfied customers in the dataset</span>"
   ]
  },
  {
   "cell_type": "code",
   "execution_count": 6,
   "id": "7b5ec0de",
   "metadata": {
    "execution": {
     "iopub.execute_input": "2024-06-30T08:53:24.970017Z",
     "iopub.status.busy": "2024-06-30T08:53:24.969693Z",
     "iopub.status.idle": "2024-06-30T08:53:24.979743Z",
     "shell.execute_reply": "2024-06-30T08:53:24.979038Z"
    },
    "papermill": {
     "duration": 0.021905,
     "end_time": "2024-06-30T08:53:24.981287",
     "exception": false,
     "start_time": "2024-06-30T08:53:24.959382",
     "status": "completed"
    },
    "tags": []
   },
   "outputs": [
    {
     "data": {
      "text/plain": [
       "satisfaction\n",
       "satisfied       71087\n",
       "dissatisfied    58793\n",
       "Name: count, dtype: int64"
      ]
     },
     "execution_count": 6,
     "metadata": {},
     "output_type": "execute_result"
    }
   ],
   "source": [
    "value_counts = df['satisfaction'].value_counts(dropna=False)\n",
    "value_counts"
   ]
  },
  {
   "cell_type": "code",
   "execution_count": 7,
   "id": "a32e9afa",
   "metadata": {
    "execution": {
     "iopub.execute_input": "2024-06-30T08:53:25.001370Z",
     "iopub.status.busy": "2024-06-30T08:53:25.001094Z",
     "iopub.status.idle": "2024-06-30T08:53:25.177972Z",
     "shell.execute_reply": "2024-06-30T08:53:25.177032Z"
    },
    "papermill": {
     "duration": 0.188972,
     "end_time": "2024-06-30T08:53:25.179746",
     "exception": false,
     "start_time": "2024-06-30T08:53:24.990774",
     "status": "completed"
    },
    "tags": []
   },
   "outputs": [
    {
     "data": {
      "image/png": "[encoded data removed]",
      "text/plain": [
       "<Figure size 640x480 with 1 Axes>"
      ]
     },
     "metadata": {},
     "output_type": "display_data"
    }
   ],
   "source": [
    "# Plotting the counts\n",
    "plt.bar(value_counts.index, value_counts.values)\n",
    "plt.xlabel('Satisfaction Levels')\n",
    "plt.ylabel('Count')\n",
    "plt.title('Count of Satisfaction Levels')\n",
    "plt.show()"
   ]
  },
  {
   "cell_type": "markdown",
   "id": "54c0e0e2",
   "metadata": {
    "papermill": {
     "duration": 0.009914,
     "end_time": "2024-06-30T08:53:25.199511",
     "exception": false,
     "start_time": "2024-06-30T08:53:25.189597",
     "status": "completed"
    },
    "tags": []
   },
   "source": [
    "### <span style=\"color:red; font-size:20px;\">Checking missing values</span>"
   ]
  },
  {
   "cell_type": "code",
   "execution_count": 8,
   "id": "a562e5a5",
   "metadata": {
    "execution": {
     "iopub.execute_input": "2024-06-30T08:53:25.220577Z",
     "iopub.status.busy": "2024-06-30T08:53:25.220286Z",
     "iopub.status.idle": "2024-06-30T08:53:25.246570Z",
     "shell.execute_reply": "2024-06-30T08:53:25.245685Z"
    },
    "papermill": {
     "duration": 0.039001,
     "end_time": "2024-06-30T08:53:25.248304",
     "exception": false,
     "start_time": "2024-06-30T08:53:25.209303",
     "status": "completed"
    },
    "tags": []
   },
   "outputs": [
    {
     "data": {
      "text/plain": [
       "Arrival Delay in Minutes             393\n",
       "Customer Type                          0\n",
       "Departure Delay in Minutes             0\n",
       "Online boarding                        0\n",
       "Cleanliness                            0\n",
       "Checkin service                        0\n",
       "Baggage handling                       0\n",
       "Leg room service                       0\n",
       "On-board service                       0\n",
       "Ease of Online booking                 0\n",
       "Online support                         0\n",
       "satisfaction                           0\n",
       "Inflight wifi service                  0\n",
       "Gate location                          0\n",
       "Food and drink                         0\n",
       "Departure/Arrival time convenient      0\n",
       "Seat comfort                           0\n",
       "Flight Distance                        0\n",
       "Class                                  0\n",
       "Type of Travel                         0\n",
       "Age                                    0\n",
       "Inflight entertainment                 0\n",
       "dtype: int64"
      ]
     },
     "execution_count": 8,
     "metadata": {},
     "output_type": "execute_result"
    }
   ],
   "source": [
    "df.isna().sum().sort_values(ascending=False)"
   ]
  },
  {
   "cell_type": "markdown",
   "id": "11b4337a",
   "metadata": {
    "papermill": {
     "duration": 0.009658,
     "end_time": "2024-06-30T08:53:25.267963",
     "exception": false,
     "start_time": "2024-06-30T08:53:25.258305",
     "status": "completed"
    },
    "tags": []
   },
   "source": [
    "Since there are only **393 missing values**, which represent a **small percentage of the dataset**, it seems reasonable to remove these rows."
   ]
  },
  {
   "cell_type": "markdown",
   "id": "48365a2f",
   "metadata": {
    "papermill": {
     "duration": 0.009561,
     "end_time": "2024-06-30T08:53:25.287215",
     "exception": false,
     "start_time": "2024-06-30T08:53:25.277654",
     "status": "completed"
    },
    "tags": []
   },
   "source": [
    "### <span style=\"color:red; font-size:20px;\">Preparing the data</span>\n",
    "\n",
    "\n",
    "In the upcoming steps, we'll need to create a plot of our model to visualize the results. Therefore, the independent variable **\"Inflight entertainment\"** cannot be of type **integer**, and the dependent variable **\"satisfaction\"** cannot be of type **object.**"
   ]
  },
  {
   "cell_type": "code",
   "execution_count": 9,
   "id": "2fef64a5",
   "metadata": {
    "execution": {
     "iopub.execute_input": "2024-06-30T08:53:25.308293Z",
     "iopub.status.busy": "2024-06-30T08:53:25.308003Z",
     "iopub.status.idle": "2024-06-30T08:53:25.346964Z",
     "shell.execute_reply": "2024-06-30T08:53:25.346167Z"
    },
    "papermill": {
     "duration": 0.051666,
     "end_time": "2024-06-30T08:53:25.348795",
     "exception": false,
     "start_time": "2024-06-30T08:53:25.297129",
     "status": "completed"
    },
    "tags": []
   },
   "outputs": [],
   "source": [
    "df1 = df.dropna(axis=0).reset_index(drop = True)"
   ]
  },
  {
   "cell_type": "code",
   "execution_count": 10,
   "id": "9ace9257",
   "metadata": {
    "execution": {
     "iopub.execute_input": "2024-06-30T08:53:25.371339Z",
     "iopub.status.busy": "2024-06-30T08:53:25.371081Z",
     "iopub.status.idle": "2024-06-30T08:53:25.413709Z",
     "shell.execute_reply": "2024-06-30T08:53:25.412919Z"
    },
    "papermill": {
     "duration": 0.055569,
     "end_time": "2024-06-30T08:53:25.415497",
     "exception": false,
     "start_time": "2024-06-30T08:53:25.359928",
     "status": "completed"
    },
    "tags": []
   },
   "outputs": [],
   "source": [
    "df1['satisfaction'] = OneHotEncoder(drop='first').fit_transform(df1[['satisfaction']]).toarray()"
   ]
  },
  {
   "cell_type": "code",
   "execution_count": 11,
   "id": "45307db7",
   "metadata": {
    "execution": {
     "iopub.execute_input": "2024-06-30T08:53:25.436555Z",
     "iopub.status.busy": "2024-06-30T08:53:25.436272Z",
     "iopub.status.idle": "2024-06-30T08:53:25.453962Z",
     "shell.execute_reply": "2024-06-30T08:53:25.453185Z"
    },
    "papermill": {
     "duration": 0.030057,
     "end_time": "2024-06-30T08:53:25.455527",
     "exception": false,
     "start_time": "2024-06-30T08:53:25.425470",
     "status": "completed"
    },
    "tags": []
   },
   "outputs": [
    {
     "data": {
      "text/html": [
       "<div>\n",
       "<style scoped>\n",
       "    .dataframe tbody tr th:only-of-type {\n",
       "        vertical-align: middle;\n",
       "    }\n",
       "\n",
       "    .dataframe tbody tr th {\n",
       "        vertical-align: top;\n",
       "    }\n",
       "\n",
       "    .dataframe thead th {\n",
       "        text-align: right;\n",
       "    }\n",
       "</style>\n",
       "<table border=\"1\" class=\"dataframe\">\n",
       "  <thead>\n",
       "    <tr style=\"text-align: right;\">\n",
       "      <th></th>\n",
       "      <th>satisfaction</th>\n",
       "      <th>Customer Type</th>\n",
       "      <th>Age</th>\n",
       "      <th>Type of Travel</th>\n",
       "      <th>Class</th>\n",
       "      <th>Flight Distance</th>\n",
       "      <th>Seat comfort</th>\n",
       "      <th>Departure/Arrival time convenient</th>\n",
       "      <th>Food and drink</th>\n",
       "      <th>Gate location</th>\n",
       "      <th>Inflight wifi service</th>\n",
       "      <th>Inflight entertainment</th>\n",
       "      <th>Online support</th>\n",
       "      <th>Ease of Online booking</th>\n",
       "      <th>On-board service</th>\n",
       "      <th>Leg room service</th>\n",
       "      <th>Baggage handling</th>\n",
       "      <th>Checkin service</th>\n",
       "      <th>Cleanliness</th>\n",
       "      <th>Online boarding</th>\n",
       "      <th>Departure Delay in Minutes</th>\n",
       "      <th>Arrival Delay in Minutes</th>\n",
       "    </tr>\n",
       "  </thead>\n",
       "  <tbody>\n",
       "    <tr>\n",
       "      <th>0</th>\n",
       "      <td>1.0</td>\n",
       "      <td>Loyal Customer</td>\n",
       "      <td>65</td>\n",
       "      <td>Personal Travel</td>\n",
       "      <td>Eco</td>\n",
       "      <td>265</td>\n",
       "      <td>0</td>\n",
       "      <td>0</td>\n",
       "      <td>0</td>\n",
       "      <td>2</td>\n",
       "      <td>2</td>\n",
       "      <td>4</td>\n",
       "      <td>2</td>\n",
       "      <td>3</td>\n",
       "      <td>3</td>\n",
       "      <td>0</td>\n",
       "      <td>3</td>\n",
       "      <td>5</td>\n",
       "      <td>3</td>\n",
       "      <td>2</td>\n",
       "      <td>0</td>\n",
       "      <td>0.0</td>\n",
       "    </tr>\n",
       "    <tr>\n",
       "      <th>1</th>\n",
       "      <td>1.0</td>\n",
       "      <td>Loyal Customer</td>\n",
       "      <td>47</td>\n",
       "      <td>Personal Travel</td>\n",
       "      <td>Business</td>\n",
       "      <td>2464</td>\n",
       "      <td>0</td>\n",
       "      <td>0</td>\n",
       "      <td>0</td>\n",
       "      <td>3</td>\n",
       "      <td>0</td>\n",
       "      <td>2</td>\n",
       "      <td>2</td>\n",
       "      <td>3</td>\n",
       "      <td>4</td>\n",
       "      <td>4</td>\n",
       "      <td>4</td>\n",
       "      <td>2</td>\n",
       "      <td>3</td>\n",
       "      <td>2</td>\n",
       "      <td>310</td>\n",
       "      <td>305.0</td>\n",
       "    </tr>\n",
       "    <tr>\n",
       "      <th>2</th>\n",
       "      <td>1.0</td>\n",
       "      <td>Loyal Customer</td>\n",
       "      <td>15</td>\n",
       "      <td>Personal Travel</td>\n",
       "      <td>Eco</td>\n",
       "      <td>2138</td>\n",
       "      <td>0</td>\n",
       "      <td>0</td>\n",
       "      <td>0</td>\n",
       "      <td>3</td>\n",
       "      <td>2</td>\n",
       "      <td>0</td>\n",
       "      <td>2</td>\n",
       "      <td>2</td>\n",
       "      <td>3</td>\n",
       "      <td>3</td>\n",
       "      <td>4</td>\n",
       "      <td>4</td>\n",
       "      <td>4</td>\n",
       "      <td>2</td>\n",
       "      <td>0</td>\n",
       "      <td>0.0</td>\n",
       "    </tr>\n",
       "    <tr>\n",
       "      <th>3</th>\n",
       "      <td>1.0</td>\n",
       "      <td>Loyal Customer</td>\n",
       "      <td>60</td>\n",
       "      <td>Personal Travel</td>\n",
       "      <td>Eco</td>\n",
       "      <td>623</td>\n",
       "      <td>0</td>\n",
       "      <td>0</td>\n",
       "      <td>0</td>\n",
       "      <td>3</td>\n",
       "      <td>3</td>\n",
       "      <td>4</td>\n",
       "      <td>3</td>\n",
       "      <td>1</td>\n",
       "      <td>1</td>\n",
       "      <td>0</td>\n",
       "      <td>1</td>\n",
       "      <td>4</td>\n",
       "      <td>1</td>\n",
       "      <td>3</td>\n",
       "      <td>0</td>\n",
       "      <td>0.0</td>\n",
       "    </tr>\n",
       "    <tr>\n",
       "      <th>4</th>\n",
       "      <td>1.0</td>\n",
       "      <td>Loyal Customer</td>\n",
       "      <td>70</td>\n",
       "      <td>Personal Travel</td>\n",
       "      <td>Eco</td>\n",
       "      <td>354</td>\n",
       "      <td>0</td>\n",
       "      <td>0</td>\n",
       "      <td>0</td>\n",
       "      <td>3</td>\n",
       "      <td>4</td>\n",
       "      <td>3</td>\n",
       "      <td>4</td>\n",
       "      <td>2</td>\n",
       "      <td>2</td>\n",
       "      <td>0</td>\n",
       "      <td>2</td>\n",
       "      <td>4</td>\n",
       "      <td>2</td>\n",
       "      <td>5</td>\n",
       "      <td>0</td>\n",
       "      <td>0.0</td>\n",
       "    </tr>\n",
       "    <tr>\n",
       "      <th>...</th>\n",
       "      <td>...</td>\n",
       "      <td>...</td>\n",
       "      <td>...</td>\n",
       "      <td>...</td>\n",
       "      <td>...</td>\n",
       "      <td>...</td>\n",
       "      <td>...</td>\n",
       "      <td>...</td>\n",
       "      <td>...</td>\n",
       "      <td>...</td>\n",
       "      <td>...</td>\n",
       "      <td>...</td>\n",
       "      <td>...</td>\n",
       "      <td>...</td>\n",
       "      <td>...</td>\n",
       "      <td>...</td>\n",
       "      <td>...</td>\n",
       "      <td>...</td>\n",
       "      <td>...</td>\n",
       "      <td>...</td>\n",
       "      <td>...</td>\n",
       "      <td>...</td>\n",
       "    </tr>\n",
       "    <tr>\n",
       "      <th>129482</th>\n",
       "      <td>1.0</td>\n",
       "      <td>disloyal Customer</td>\n",
       "      <td>29</td>\n",
       "      <td>Personal Travel</td>\n",
       "      <td>Eco</td>\n",
       "      <td>1731</td>\n",
       "      <td>5</td>\n",
       "      <td>5</td>\n",
       "      <td>5</td>\n",
       "      <td>3</td>\n",
       "      <td>2</td>\n",
       "      <td>5</td>\n",
       "      <td>2</td>\n",
       "      <td>2</td>\n",
       "      <td>3</td>\n",
       "      <td>3</td>\n",
       "      <td>4</td>\n",
       "      <td>4</td>\n",
       "      <td>4</td>\n",
       "      <td>2</td>\n",
       "      <td>0</td>\n",
       "      <td>0.0</td>\n",
       "    </tr>\n",
       "    <tr>\n",
       "      <th>129483</th>\n",
       "      <td>0.0</td>\n",
       "      <td>disloyal Customer</td>\n",
       "      <td>63</td>\n",
       "      <td>Personal Travel</td>\n",
       "      <td>Business</td>\n",
       "      <td>2087</td>\n",
       "      <td>2</td>\n",
       "      <td>3</td>\n",
       "      <td>2</td>\n",
       "      <td>4</td>\n",
       "      <td>2</td>\n",
       "      <td>1</td>\n",
       "      <td>1</td>\n",
       "      <td>3</td>\n",
       "      <td>2</td>\n",
       "      <td>3</td>\n",
       "      <td>3</td>\n",
       "      <td>1</td>\n",
       "      <td>2</td>\n",
       "      <td>1</td>\n",
       "      <td>174</td>\n",
       "      <td>172.0</td>\n",
       "    </tr>\n",
       "    <tr>\n",
       "      <th>129484</th>\n",
       "      <td>0.0</td>\n",
       "      <td>disloyal Customer</td>\n",
       "      <td>69</td>\n",
       "      <td>Personal Travel</td>\n",
       "      <td>Eco</td>\n",
       "      <td>2320</td>\n",
       "      <td>3</td>\n",
       "      <td>0</td>\n",
       "      <td>3</td>\n",
       "      <td>3</td>\n",
       "      <td>3</td>\n",
       "      <td>2</td>\n",
       "      <td>2</td>\n",
       "      <td>4</td>\n",
       "      <td>4</td>\n",
       "      <td>3</td>\n",
       "      <td>4</td>\n",
       "      <td>2</td>\n",
       "      <td>3</td>\n",
       "      <td>2</td>\n",
       "      <td>155</td>\n",
       "      <td>163.0</td>\n",
       "    </tr>\n",
       "    <tr>\n",
       "      <th>129485</th>\n",
       "      <td>0.0</td>\n",
       "      <td>disloyal Customer</td>\n",
       "      <td>66</td>\n",
       "      <td>Personal Travel</td>\n",
       "      <td>Eco</td>\n",
       "      <td>2450</td>\n",
       "      <td>3</td>\n",
       "      <td>2</td>\n",
       "      <td>3</td>\n",
       "      <td>2</td>\n",
       "      <td>3</td>\n",
       "      <td>2</td>\n",
       "      <td>2</td>\n",
       "      <td>3</td>\n",
       "      <td>3</td>\n",
       "      <td>2</td>\n",
       "      <td>3</td>\n",
       "      <td>2</td>\n",
       "      <td>1</td>\n",
       "      <td>2</td>\n",
       "      <td>193</td>\n",
       "      <td>205.0</td>\n",
       "    </tr>\n",
       "    <tr>\n",
       "      <th>129486</th>\n",
       "      <td>0.0</td>\n",
       "      <td>disloyal Customer</td>\n",
       "      <td>38</td>\n",
       "      <td>Personal Travel</td>\n",
       "      <td>Eco</td>\n",
       "      <td>4307</td>\n",
       "      <td>3</td>\n",
       "      <td>4</td>\n",
       "      <td>3</td>\n",
       "      <td>3</td>\n",
       "      <td>3</td>\n",
       "      <td>3</td>\n",
       "      <td>3</td>\n",
       "      <td>4</td>\n",
       "      <td>5</td>\n",
       "      <td>5</td>\n",
       "      <td>5</td>\n",
       "      <td>3</td>\n",
       "      <td>3</td>\n",
       "      <td>3</td>\n",
       "      <td>185</td>\n",
       "      <td>186.0</td>\n",
       "    </tr>\n",
       "  </tbody>\n",
       "</table>\n",
       "<p>129487 rows × 22 columns</p>\n",
       "</div>"
      ],
      "text/plain": [
       "        satisfaction      Customer Type  Age   Type of Travel     Class  \\\n",
       "0                1.0     Loyal Customer   65  Personal Travel       Eco   \n",
       "1                1.0     Loyal Customer   47  Personal Travel  Business   \n",
       "2                1.0     Loyal Customer   15  Personal Travel       Eco   \n",
       "3                1.0     Loyal Customer   60  Personal Travel       Eco   \n",
       "4                1.0     Loyal Customer   70  Personal Travel       Eco   \n",
       "...              ...                ...  ...              ...       ...   \n",
       "129482           1.0  disloyal Customer   29  Personal Travel       Eco   \n",
       "129483           0.0  disloyal Customer   63  Personal Travel  Business   \n",
       "129484           0.0  disloyal Customer   69  Personal Travel       Eco   \n",
       "129485           0.0  disloyal Customer   66  Personal Travel       Eco   \n",
       "129486           0.0  disloyal Customer   38  Personal Travel       Eco   \n",
       "\n",
       "        Flight Distance  Seat comfort  Departure/Arrival time convenient  \\\n",
       "0                   265             0                                  0   \n",
       "1                  2464             0                                  0   \n",
       "2                  2138             0                                  0   \n",
       "3                   623             0                                  0   \n",
       "4                   354             0                                  0   \n",
       "...                 ...           ...                                ...   \n",
       "129482             1731             5                                  5   \n",
       "129483             2087             2                                  3   \n",
       "129484             2320             3                                  0   \n",
       "129485             2450             3                                  2   \n",
       "129486             4307             3                                  4   \n",
       "\n",
       "        Food and drink  Gate location  Inflight wifi service  \\\n",
       "0                    0              2                      2   \n",
       "1                    0              3                      0   \n",
       "2                    0              3                      2   \n",
       "3                    0              3                      3   \n",
       "4                    0              3                      4   \n",
       "...                ...            ...                    ...   \n",
       "129482               5              3                      2   \n",
       "129483               2              4                      2   \n",
       "129484               3              3                      3   \n",
       "129485               3              2                      3   \n",
       "129486               3              3                      3   \n",
       "\n",
       "        Inflight entertainment  Online support  Ease of Online booking  \\\n",
       "0                            4               2                       3   \n",
       "1                            2               2                       3   \n",
       "2                            0               2                       2   \n",
       "3                            4               3                       1   \n",
       "4                            3               4                       2   \n",
       "...                        ...             ...                     ...   \n",
       "129482                       5               2                       2   \n",
       "129483                       1               1                       3   \n",
       "129484                       2               2                       4   \n",
       "129485                       2               2                       3   \n",
       "129486                       3               3                       4   \n",
       "\n",
       "        On-board service  Leg room service  Baggage handling  Checkin service  \\\n",
       "0                      3                 0                 3                5   \n",
       "1                      4                 4                 4                2   \n",
       "2                      3                 3                 4                4   \n",
       "3                      1                 0                 1                4   \n",
       "4                      2                 0                 2                4   \n",
       "...                  ...               ...               ...              ...   \n",
       "129482                 3                 3                 4                4   \n",
       "129483                 2                 3                 3                1   \n",
       "129484                 4                 3                 4                2   \n",
       "129485                 3                 2                 3                2   \n",
       "129486                 5                 5                 5                3   \n",
       "\n",
       "        Cleanliness  Online boarding  Departure Delay in Minutes  \\\n",
       "0                 3                2                           0   \n",
       "1                 3                2                         310   \n",
       "2                 4                2                           0   \n",
       "3                 1                3                           0   \n",
       "4                 2                5                           0   \n",
       "...             ...              ...                         ...   \n",
       "129482            4                2                           0   \n",
       "129483            2                1                         174   \n",
       "129484            3                2                         155   \n",
       "129485            1                2                         193   \n",
       "129486            3                3                         185   \n",
       "\n",
       "        Arrival Delay in Minutes  \n",
       "0                            0.0  \n",
       "1                          305.0  \n",
       "2                            0.0  \n",
       "3                            0.0  \n",
       "4                            0.0  \n",
       "...                          ...  \n",
       "129482                       0.0  \n",
       "129483                     172.0  \n",
       "129484                     163.0  \n",
       "129485                     205.0  \n",
       "129486                     186.0  \n",
       "\n",
       "[129487 rows x 22 columns]"
      ]
     },
     "execution_count": 11,
     "metadata": {},
     "output_type": "execute_result"
    }
   ],
   "source": [
    "df1"
   ]
  },
  {
   "cell_type": "markdown",
   "id": "b3dae295",
   "metadata": {
    "papermill": {
     "duration": 0.009834,
     "end_time": "2024-06-30T08:53:25.475540",
     "exception": false,
     "start_time": "2024-06-30T08:53:25.465706",
     "status": "completed"
    },
    "tags": []
   },
   "source": [
    "### <span style=\"color:red; font-size:20px;\">Creating the training and testing data</span>\n"
   ]
  },
  {
   "cell_type": "code",
   "execution_count": 12,
   "id": "dfaeabea",
   "metadata": {
    "execution": {
     "iopub.execute_input": "2024-06-30T08:53:25.496732Z",
     "iopub.status.busy": "2024-06-30T08:53:25.496418Z",
     "iopub.status.idle": "2024-06-30T08:53:25.500023Z",
     "shell.execute_reply": "2024-06-30T08:53:25.499329Z"
    },
    "papermill": {
     "duration": 0.015975,
     "end_time": "2024-06-30T08:53:25.501536",
     "exception": false,
     "start_time": "2024-06-30T08:53:25.485561",
     "status": "completed"
    },
    "tags": []
   },
   "outputs": [],
   "source": [
    "from sklearn.preprocessing import StandardScaler\n",
    "scaler=StandardScaler()"
   ]
  },
  {
   "cell_type": "code",
   "execution_count": 13,
   "id": "8a32b956",
   "metadata": {
    "execution": {
     "iopub.execute_input": "2024-06-30T08:53:25.522477Z",
     "iopub.status.busy": "2024-06-30T08:53:25.522224Z",
     "iopub.status.idle": "2024-06-30T08:53:25.534402Z",
     "shell.execute_reply": "2024-06-30T08:53:25.533665Z"
    },
    "papermill": {
     "duration": 0.024383,
     "end_time": "2024-06-30T08:53:25.535877",
     "exception": false,
     "start_time": "2024-06-30T08:53:25.511494",
     "status": "completed"
    },
    "tags": []
   },
   "outputs": [
    {
     "data": {
      "text/plain": [
       "Type of Travel\n",
       "Business travel    89445\n",
       "Personal Travel    40042\n",
       "Name: count, dtype: int64"
      ]
     },
     "execution_count": 13,
     "metadata": {},
     "output_type": "execute_result"
    }
   ],
   "source": [
    "df1['Type of Travel'].value_counts()"
   ]
  },
  {
   "cell_type": "code",
   "execution_count": 14,
   "id": "6626f219",
   "metadata": {
    "execution": {
     "iopub.execute_input": "2024-06-30T08:53:25.594982Z",
     "iopub.status.busy": "2024-06-30T08:53:25.594686Z",
     "iopub.status.idle": "2024-06-30T08:53:25.607373Z",
     "shell.execute_reply": "2024-06-30T08:53:25.606684Z"
    },
    "papermill": {
     "duration": 0.062698,
     "end_time": "2024-06-30T08:53:25.608941",
     "exception": false,
     "start_time": "2024-06-30T08:53:25.546243",
     "status": "completed"
    },
    "tags": []
   },
   "outputs": [
    {
     "data": {
      "text/plain": [
       "Customer Type\n",
       "Loyal Customer       105773\n",
       "disloyal Customer     23714\n",
       "Name: count, dtype: int64"
      ]
     },
     "execution_count": 14,
     "metadata": {},
     "output_type": "execute_result"
    }
   ],
   "source": [
    "df1['Customer Type'].value_counts()"
   ]
  },
  {
   "cell_type": "code",
   "execution_count": 15,
   "id": "83a4bf65",
   "metadata": {
    "execution": {
     "iopub.execute_input": "2024-06-30T08:53:25.630623Z",
     "iopub.status.busy": "2024-06-30T08:53:25.630352Z",
     "iopub.status.idle": "2024-06-30T08:53:25.642703Z",
     "shell.execute_reply": "2024-06-30T08:53:25.642028Z"
    },
    "papermill": {
     "duration": 0.024681,
     "end_time": "2024-06-30T08:53:25.644292",
     "exception": false,
     "start_time": "2024-06-30T08:53:25.619611",
     "status": "completed"
    },
    "tags": []
   },
   "outputs": [
    {
     "data": {
      "text/plain": [
       "Class\n",
       "Business    61990\n",
       "Eco         58117\n",
       "Eco Plus     9380\n",
       "Name: count, dtype: int64"
      ]
     },
     "execution_count": 15,
     "metadata": {},
     "output_type": "execute_result"
    }
   ],
   "source": [
    "df1['Class'].value_counts()"
   ]
  },
  {
   "cell_type": "code",
   "execution_count": 16,
   "id": "b9d976ac",
   "metadata": {
    "execution": {
     "iopub.execute_input": "2024-06-30T08:53:25.666300Z",
     "iopub.status.busy": "2024-06-30T08:53:25.666066Z",
     "iopub.status.idle": "2024-06-30T08:53:25.716364Z",
     "shell.execute_reply": "2024-06-30T08:53:25.715653Z"
    },
    "papermill": {
     "duration": 0.063123,
     "end_time": "2024-06-30T08:53:25.717990",
     "exception": false,
     "start_time": "2024-06-30T08:53:25.654867",
     "status": "completed"
    },
    "tags": []
   },
   "outputs": [
    {
     "data": {
      "text/html": [
       "<div>\n",
       "<style scoped>\n",
       "    .dataframe tbody tr th:only-of-type {\n",
       "        vertical-align: middle;\n",
       "    }\n",
       "\n",
       "    .dataframe tbody tr th {\n",
       "        vertical-align: top;\n",
       "    }\n",
       "\n",
       "    .dataframe thead th {\n",
       "        text-align: right;\n",
       "    }\n",
       "</style>\n",
       "<table border=\"1\" class=\"dataframe\">\n",
       "  <thead>\n",
       "    <tr style=\"text-align: right;\">\n",
       "      <th></th>\n",
       "      <th>satisfaction</th>\n",
       "      <th>Customer Type</th>\n",
       "      <th>Age</th>\n",
       "      <th>Type of Travel</th>\n",
       "      <th>Class</th>\n",
       "      <th>Flight Distance</th>\n",
       "      <th>Seat comfort</th>\n",
       "      <th>Departure/Arrival time convenient</th>\n",
       "      <th>Food and drink</th>\n",
       "      <th>Gate location</th>\n",
       "      <th>Inflight wifi service</th>\n",
       "      <th>Inflight entertainment</th>\n",
       "      <th>Online support</th>\n",
       "      <th>Ease of Online booking</th>\n",
       "      <th>On-board service</th>\n",
       "      <th>Leg room service</th>\n",
       "      <th>Baggage handling</th>\n",
       "      <th>Checkin service</th>\n",
       "      <th>Cleanliness</th>\n",
       "      <th>Online boarding</th>\n",
       "      <th>Departure Delay in Minutes</th>\n",
       "      <th>Arrival Delay in Minutes</th>\n",
       "    </tr>\n",
       "  </thead>\n",
       "  <tbody>\n",
       "    <tr>\n",
       "      <th>0</th>\n",
       "      <td>1.0</td>\n",
       "      <td>0.0</td>\n",
       "      <td>65</td>\n",
       "      <td>Personal Travel</td>\n",
       "      <td>Eco</td>\n",
       "      <td>265</td>\n",
       "      <td>0</td>\n",
       "      <td>0</td>\n",
       "      <td>0</td>\n",
       "      <td>2</td>\n",
       "      <td>2</td>\n",
       "      <td>4</td>\n",
       "      <td>2</td>\n",
       "      <td>3</td>\n",
       "      <td>3</td>\n",
       "      <td>0</td>\n",
       "      <td>3</td>\n",
       "      <td>5</td>\n",
       "      <td>3</td>\n",
       "      <td>2</td>\n",
       "      <td>0</td>\n",
       "      <td>0.0</td>\n",
       "    </tr>\n",
       "    <tr>\n",
       "      <th>1</th>\n",
       "      <td>1.0</td>\n",
       "      <td>0.0</td>\n",
       "      <td>47</td>\n",
       "      <td>Personal Travel</td>\n",
       "      <td>Business</td>\n",
       "      <td>2464</td>\n",
       "      <td>0</td>\n",
       "      <td>0</td>\n",
       "      <td>0</td>\n",
       "      <td>3</td>\n",
       "      <td>0</td>\n",
       "      <td>2</td>\n",
       "      <td>2</td>\n",
       "      <td>3</td>\n",
       "      <td>4</td>\n",
       "      <td>4</td>\n",
       "      <td>4</td>\n",
       "      <td>2</td>\n",
       "      <td>3</td>\n",
       "      <td>2</td>\n",
       "      <td>310</td>\n",
       "      <td>305.0</td>\n",
       "    </tr>\n",
       "    <tr>\n",
       "      <th>2</th>\n",
       "      <td>1.0</td>\n",
       "      <td>0.0</td>\n",
       "      <td>15</td>\n",
       "      <td>Personal Travel</td>\n",
       "      <td>Eco</td>\n",
       "      <td>2138</td>\n",
       "      <td>0</td>\n",
       "      <td>0</td>\n",
       "      <td>0</td>\n",
       "      <td>3</td>\n",
       "      <td>2</td>\n",
       "      <td>0</td>\n",
       "      <td>2</td>\n",
       "      <td>2</td>\n",
       "      <td>3</td>\n",
       "      <td>3</td>\n",
       "      <td>4</td>\n",
       "      <td>4</td>\n",
       "      <td>4</td>\n",
       "      <td>2</td>\n",
       "      <td>0</td>\n",
       "      <td>0.0</td>\n",
       "    </tr>\n",
       "    <tr>\n",
       "      <th>3</th>\n",
       "      <td>1.0</td>\n",
       "      <td>0.0</td>\n",
       "      <td>60</td>\n",
       "      <td>Personal Travel</td>\n",
       "      <td>Eco</td>\n",
       "      <td>623</td>\n",
       "      <td>0</td>\n",
       "      <td>0</td>\n",
       "      <td>0</td>\n",
       "      <td>3</td>\n",
       "      <td>3</td>\n",
       "      <td>4</td>\n",
       "      <td>3</td>\n",
       "      <td>1</td>\n",
       "      <td>1</td>\n",
       "      <td>0</td>\n",
       "      <td>1</td>\n",
       "      <td>4</td>\n",
       "      <td>1</td>\n",
       "      <td>3</td>\n",
       "      <td>0</td>\n",
       "      <td>0.0</td>\n",
       "    </tr>\n",
       "    <tr>\n",
       "      <th>4</th>\n",
       "      <td>1.0</td>\n",
       "      <td>0.0</td>\n",
       "      <td>70</td>\n",
       "      <td>Personal Travel</td>\n",
       "      <td>Eco</td>\n",
       "      <td>354</td>\n",
       "      <td>0</td>\n",
       "      <td>0</td>\n",
       "      <td>0</td>\n",
       "      <td>3</td>\n",
       "      <td>4</td>\n",
       "      <td>3</td>\n",
       "      <td>4</td>\n",
       "      <td>2</td>\n",
       "      <td>2</td>\n",
       "      <td>0</td>\n",
       "      <td>2</td>\n",
       "      <td>4</td>\n",
       "      <td>2</td>\n",
       "      <td>5</td>\n",
       "      <td>0</td>\n",
       "      <td>0.0</td>\n",
       "    </tr>\n",
       "    <tr>\n",
       "      <th>...</th>\n",
       "      <td>...</td>\n",
       "      <td>...</td>\n",
       "      <td>...</td>\n",
       "      <td>...</td>\n",
       "      <td>...</td>\n",
       "      <td>...</td>\n",
       "      <td>...</td>\n",
       "      <td>...</td>\n",
       "      <td>...</td>\n",
       "      <td>...</td>\n",
       "      <td>...</td>\n",
       "      <td>...</td>\n",
       "      <td>...</td>\n",
       "      <td>...</td>\n",
       "      <td>...</td>\n",
       "      <td>...</td>\n",
       "      <td>...</td>\n",
       "      <td>...</td>\n",
       "      <td>...</td>\n",
       "      <td>...</td>\n",
       "      <td>...</td>\n",
       "      <td>...</td>\n",
       "    </tr>\n",
       "    <tr>\n",
       "      <th>129482</th>\n",
       "      <td>1.0</td>\n",
       "      <td>1.0</td>\n",
       "      <td>29</td>\n",
       "      <td>Personal Travel</td>\n",
       "      <td>Eco</td>\n",
       "      <td>1731</td>\n",
       "      <td>5</td>\n",
       "      <td>5</td>\n",
       "      <td>5</td>\n",
       "      <td>3</td>\n",
       "      <td>2</td>\n",
       "      <td>5</td>\n",
       "      <td>2</td>\n",
       "      <td>2</td>\n",
       "      <td>3</td>\n",
       "      <td>3</td>\n",
       "      <td>4</td>\n",
       "      <td>4</td>\n",
       "      <td>4</td>\n",
       "      <td>2</td>\n",
       "      <td>0</td>\n",
       "      <td>0.0</td>\n",
       "    </tr>\n",
       "    <tr>\n",
       "      <th>129483</th>\n",
       "      <td>0.0</td>\n",
       "      <td>1.0</td>\n",
       "      <td>63</td>\n",
       "      <td>Personal Travel</td>\n",
       "      <td>Business</td>\n",
       "      <td>2087</td>\n",
       "      <td>2</td>\n",
       "      <td>3</td>\n",
       "      <td>2</td>\n",
       "      <td>4</td>\n",
       "      <td>2</td>\n",
       "      <td>1</td>\n",
       "      <td>1</td>\n",
       "      <td>3</td>\n",
       "      <td>2</td>\n",
       "      <td>3</td>\n",
       "      <td>3</td>\n",
       "      <td>1</td>\n",
       "      <td>2</td>\n",
       "      <td>1</td>\n",
       "      <td>174</td>\n",
       "      <td>172.0</td>\n",
       "    </tr>\n",
       "    <tr>\n",
       "      <th>129484</th>\n",
       "      <td>0.0</td>\n",
       "      <td>1.0</td>\n",
       "      <td>69</td>\n",
       "      <td>Personal Travel</td>\n",
       "      <td>Eco</td>\n",
       "      <td>2320</td>\n",
       "      <td>3</td>\n",
       "      <td>0</td>\n",
       "      <td>3</td>\n",
       "      <td>3</td>\n",
       "      <td>3</td>\n",
       "      <td>2</td>\n",
       "      <td>2</td>\n",
       "      <td>4</td>\n",
       "      <td>4</td>\n",
       "      <td>3</td>\n",
       "      <td>4</td>\n",
       "      <td>2</td>\n",
       "      <td>3</td>\n",
       "      <td>2</td>\n",
       "      <td>155</td>\n",
       "      <td>163.0</td>\n",
       "    </tr>\n",
       "    <tr>\n",
       "      <th>129485</th>\n",
       "      <td>0.0</td>\n",
       "      <td>1.0</td>\n",
       "      <td>66</td>\n",
       "      <td>Personal Travel</td>\n",
       "      <td>Eco</td>\n",
       "      <td>2450</td>\n",
       "      <td>3</td>\n",
       "      <td>2</td>\n",
       "      <td>3</td>\n",
       "      <td>2</td>\n",
       "      <td>3</td>\n",
       "      <td>2</td>\n",
       "      <td>2</td>\n",
       "      <td>3</td>\n",
       "      <td>3</td>\n",
       "      <td>2</td>\n",
       "      <td>3</td>\n",
       "      <td>2</td>\n",
       "      <td>1</td>\n",
       "      <td>2</td>\n",
       "      <td>193</td>\n",
       "      <td>205.0</td>\n",
       "    </tr>\n",
       "    <tr>\n",
       "      <th>129486</th>\n",
       "      <td>0.0</td>\n",
       "      <td>1.0</td>\n",
       "      <td>38</td>\n",
       "      <td>Personal Travel</td>\n",
       "      <td>Eco</td>\n",
       "      <td>4307</td>\n",
       "      <td>3</td>\n",
       "      <td>4</td>\n",
       "      <td>3</td>\n",
       "      <td>3</td>\n",
       "      <td>3</td>\n",
       "      <td>3</td>\n",
       "      <td>3</td>\n",
       "      <td>4</td>\n",
       "      <td>5</td>\n",
       "      <td>5</td>\n",
       "      <td>5</td>\n",
       "      <td>3</td>\n",
       "      <td>3</td>\n",
       "      <td>3</td>\n",
       "      <td>185</td>\n",
       "      <td>186.0</td>\n",
       "    </tr>\n",
       "  </tbody>\n",
       "</table>\n",
       "<p>129487 rows × 22 columns</p>\n",
       "</div>"
      ],
      "text/plain": [
       "        satisfaction  Customer Type  Age   Type of Travel     Class  \\\n",
       "0                1.0            0.0   65  Personal Travel       Eco   \n",
       "1                1.0            0.0   47  Personal Travel  Business   \n",
       "2                1.0            0.0   15  Personal Travel       Eco   \n",
       "3                1.0            0.0   60  Personal Travel       Eco   \n",
       "4                1.0            0.0   70  Personal Travel       Eco   \n",
       "...              ...            ...  ...              ...       ...   \n",
       "129482           1.0            1.0   29  Personal Travel       Eco   \n",
       "129483           0.0            1.0   63  Personal Travel  Business   \n",
       "129484           0.0            1.0   69  Personal Travel       Eco   \n",
       "129485           0.0            1.0   66  Personal Travel       Eco   \n",
       "129486           0.0            1.0   38  Personal Travel       Eco   \n",
       "\n",
       "        Flight Distance  Seat comfort  Departure/Arrival time convenient  \\\n",
       "0                   265             0                                  0   \n",
       "1                  2464             0                                  0   \n",
       "2                  2138             0                                  0   \n",
       "3                   623             0                                  0   \n",
       "4                   354             0                                  0   \n",
       "...                 ...           ...                                ...   \n",
       "129482             1731             5                                  5   \n",
       "129483             2087             2                                  3   \n",
       "129484             2320             3                                  0   \n",
       "129485             2450             3                                  2   \n",
       "129486             4307             3                                  4   \n",
       "\n",
       "        Food and drink  Gate location  Inflight wifi service  \\\n",
       "0                    0              2                      2   \n",
       "1                    0              3                      0   \n",
       "2                    0              3                      2   \n",
       "3                    0              3                      3   \n",
       "4                    0              3                      4   \n",
       "...                ...            ...                    ...   \n",
       "129482               5              3                      2   \n",
       "129483               2              4                      2   \n",
       "129484               3              3                      3   \n",
       "129485               3              2                      3   \n",
       "129486               3              3                      3   \n",
       "\n",
       "        Inflight entertainment  Online support  Ease of Online booking  \\\n",
       "0                            4               2                       3   \n",
       "1                            2               2                       3   \n",
       "2                            0               2                       2   \n",
       "3                            4               3                       1   \n",
       "4                            3               4                       2   \n",
       "...                        ...             ...                     ...   \n",
       "129482                       5               2                       2   \n",
       "129483                       1               1                       3   \n",
       "129484                       2               2                       4   \n",
       "129485                       2               2                       3   \n",
       "129486                       3               3                       4   \n",
       "\n",
       "        On-board service  Leg room service  Baggage handling  Checkin service  \\\n",
       "0                      3                 0                 3                5   \n",
       "1                      4                 4                 4                2   \n",
       "2                      3                 3                 4                4   \n",
       "3                      1                 0                 1                4   \n",
       "4                      2                 0                 2                4   \n",
       "...                  ...               ...               ...              ...   \n",
       "129482                 3                 3                 4                4   \n",
       "129483                 2                 3                 3                1   \n",
       "129484                 4                 3                 4                2   \n",
       "129485                 3                 2                 3                2   \n",
       "129486                 5                 5                 5                3   \n",
       "\n",
       "        Cleanliness  Online boarding  Departure Delay in Minutes  \\\n",
       "0                 3                2                           0   \n",
       "1                 3                2                         310   \n",
       "2                 4                2                           0   \n",
       "3                 1                3                           0   \n",
       "4                 2                5                           0   \n",
       "...             ...              ...                         ...   \n",
       "129482            4                2                           0   \n",
       "129483            2                1                         174   \n",
       "129484            3                2                         155   \n",
       "129485            1                2                         193   \n",
       "129486            3                3                         185   \n",
       "\n",
       "        Arrival Delay in Minutes  \n",
       "0                            0.0  \n",
       "1                          305.0  \n",
       "2                            0.0  \n",
       "3                            0.0  \n",
       "4                            0.0  \n",
       "...                          ...  \n",
       "129482                       0.0  \n",
       "129483                     172.0  \n",
       "129484                     163.0  \n",
       "129485                     205.0  \n",
       "129486                     186.0  \n",
       "\n",
       "[129487 rows x 22 columns]"
      ]
     },
     "execution_count": 16,
     "metadata": {},
     "output_type": "execute_result"
    }
   ],
   "source": [
    "## One hot encoding for the customer type\n",
    "df1['Customer Type'] = OneHotEncoder(drop='first').fit_transform(df1[['Customer Type']]).toarray()\n",
    "df1"
   ]
  },
  {
   "cell_type": "code",
   "execution_count": 17,
   "id": "20ed4e12",
   "metadata": {
    "execution": {
     "iopub.execute_input": "2024-06-30T08:53:25.740745Z",
     "iopub.status.busy": "2024-06-30T08:53:25.740460Z",
     "iopub.status.idle": "2024-06-30T08:53:25.790804Z",
     "shell.execute_reply": "2024-06-30T08:53:25.790070Z"
    },
    "papermill": {
     "duration": 0.063462,
     "end_time": "2024-06-30T08:53:25.792451",
     "exception": false,
     "start_time": "2024-06-30T08:53:25.728989",
     "status": "completed"
    },
    "tags": []
   },
   "outputs": [
    {
     "data": {
      "text/html": [
       "<div>\n",
       "<style scoped>\n",
       "    .dataframe tbody tr th:only-of-type {\n",
       "        vertical-align: middle;\n",
       "    }\n",
       "\n",
       "    .dataframe tbody tr th {\n",
       "        vertical-align: top;\n",
       "    }\n",
       "\n",
       "    .dataframe thead th {\n",
       "        text-align: right;\n",
       "    }\n",
       "</style>\n",
       "<table border=\"1\" class=\"dataframe\">\n",
       "  <thead>\n",
       "    <tr style=\"text-align: right;\">\n",
       "      <th></th>\n",
       "      <th>satisfaction</th>\n",
       "      <th>Customer Type</th>\n",
       "      <th>Age</th>\n",
       "      <th>Type of Travel</th>\n",
       "      <th>Class</th>\n",
       "      <th>Flight Distance</th>\n",
       "      <th>Seat comfort</th>\n",
       "      <th>Departure/Arrival time convenient</th>\n",
       "      <th>Food and drink</th>\n",
       "      <th>Gate location</th>\n",
       "      <th>Inflight wifi service</th>\n",
       "      <th>Inflight entertainment</th>\n",
       "      <th>Online support</th>\n",
       "      <th>Ease of Online booking</th>\n",
       "      <th>On-board service</th>\n",
       "      <th>Leg room service</th>\n",
       "      <th>Baggage handling</th>\n",
       "      <th>Checkin service</th>\n",
       "      <th>Cleanliness</th>\n",
       "      <th>Online boarding</th>\n",
       "      <th>Departure Delay in Minutes</th>\n",
       "      <th>Arrival Delay in Minutes</th>\n",
       "    </tr>\n",
       "  </thead>\n",
       "  <tbody>\n",
       "    <tr>\n",
       "      <th>0</th>\n",
       "      <td>1.0</td>\n",
       "      <td>0.0</td>\n",
       "      <td>65</td>\n",
       "      <td>1.0</td>\n",
       "      <td>Eco</td>\n",
       "      <td>265</td>\n",
       "      <td>0</td>\n",
       "      <td>0</td>\n",
       "      <td>0</td>\n",
       "      <td>2</td>\n",
       "      <td>2</td>\n",
       "      <td>4</td>\n",
       "      <td>2</td>\n",
       "      <td>3</td>\n",
       "      <td>3</td>\n",
       "      <td>0</td>\n",
       "      <td>3</td>\n",
       "      <td>5</td>\n",
       "      <td>3</td>\n",
       "      <td>2</td>\n",
       "      <td>0</td>\n",
       "      <td>0.0</td>\n",
       "    </tr>\n",
       "    <tr>\n",
       "      <th>1</th>\n",
       "      <td>1.0</td>\n",
       "      <td>0.0</td>\n",
       "      <td>47</td>\n",
       "      <td>1.0</td>\n",
       "      <td>Business</td>\n",
       "      <td>2464</td>\n",
       "      <td>0</td>\n",
       "      <td>0</td>\n",
       "      <td>0</td>\n",
       "      <td>3</td>\n",
       "      <td>0</td>\n",
       "      <td>2</td>\n",
       "      <td>2</td>\n",
       "      <td>3</td>\n",
       "      <td>4</td>\n",
       "      <td>4</td>\n",
       "      <td>4</td>\n",
       "      <td>2</td>\n",
       "      <td>3</td>\n",
       "      <td>2</td>\n",
       "      <td>310</td>\n",
       "      <td>305.0</td>\n",
       "    </tr>\n",
       "    <tr>\n",
       "      <th>2</th>\n",
       "      <td>1.0</td>\n",
       "      <td>0.0</td>\n",
       "      <td>15</td>\n",
       "      <td>1.0</td>\n",
       "      <td>Eco</td>\n",
       "      <td>2138</td>\n",
       "      <td>0</td>\n",
       "      <td>0</td>\n",
       "      <td>0</td>\n",
       "      <td>3</td>\n",
       "      <td>2</td>\n",
       "      <td>0</td>\n",
       "      <td>2</td>\n",
       "      <td>2</td>\n",
       "      <td>3</td>\n",
       "      <td>3</td>\n",
       "      <td>4</td>\n",
       "      <td>4</td>\n",
       "      <td>4</td>\n",
       "      <td>2</td>\n",
       "      <td>0</td>\n",
       "      <td>0.0</td>\n",
       "    </tr>\n",
       "    <tr>\n",
       "      <th>3</th>\n",
       "      <td>1.0</td>\n",
       "      <td>0.0</td>\n",
       "      <td>60</td>\n",
       "      <td>1.0</td>\n",
       "      <td>Eco</td>\n",
       "      <td>623</td>\n",
       "      <td>0</td>\n",
       "      <td>0</td>\n",
       "      <td>0</td>\n",
       "      <td>3</td>\n",
       "      <td>3</td>\n",
       "      <td>4</td>\n",
       "      <td>3</td>\n",
       "      <td>1</td>\n",
       "      <td>1</td>\n",
       "      <td>0</td>\n",
       "      <td>1</td>\n",
       "      <td>4</td>\n",
       "      <td>1</td>\n",
       "      <td>3</td>\n",
       "      <td>0</td>\n",
       "      <td>0.0</td>\n",
       "    </tr>\n",
       "    <tr>\n",
       "      <th>4</th>\n",
       "      <td>1.0</td>\n",
       "      <td>0.0</td>\n",
       "      <td>70</td>\n",
       "      <td>1.0</td>\n",
       "      <td>Eco</td>\n",
       "      <td>354</td>\n",
       "      <td>0</td>\n",
       "      <td>0</td>\n",
       "      <td>0</td>\n",
       "      <td>3</td>\n",
       "      <td>4</td>\n",
       "      <td>3</td>\n",
       "      <td>4</td>\n",
       "      <td>2</td>\n",
       "      <td>2</td>\n",
       "      <td>0</td>\n",
       "      <td>2</td>\n",
       "      <td>4</td>\n",
       "      <td>2</td>\n",
       "      <td>5</td>\n",
       "      <td>0</td>\n",
       "      <td>0.0</td>\n",
       "    </tr>\n",
       "    <tr>\n",
       "      <th>...</th>\n",
       "      <td>...</td>\n",
       "      <td>...</td>\n",
       "      <td>...</td>\n",
       "      <td>...</td>\n",
       "      <td>...</td>\n",
       "      <td>...</td>\n",
       "      <td>...</td>\n",
       "      <td>...</td>\n",
       "      <td>...</td>\n",
       "      <td>...</td>\n",
       "      <td>...</td>\n",
       "      <td>...</td>\n",
       "      <td>...</td>\n",
       "      <td>...</td>\n",
       "      <td>...</td>\n",
       "      <td>...</td>\n",
       "      <td>...</td>\n",
       "      <td>...</td>\n",
       "      <td>...</td>\n",
       "      <td>...</td>\n",
       "      <td>...</td>\n",
       "      <td>...</td>\n",
       "    </tr>\n",
       "    <tr>\n",
       "      <th>129482</th>\n",
       "      <td>1.0</td>\n",
       "      <td>1.0</td>\n",
       "      <td>29</td>\n",
       "      <td>1.0</td>\n",
       "      <td>Eco</td>\n",
       "      <td>1731</td>\n",
       "      <td>5</td>\n",
       "      <td>5</td>\n",
       "      <td>5</td>\n",
       "      <td>3</td>\n",
       "      <td>2</td>\n",
       "      <td>5</td>\n",
       "      <td>2</td>\n",
       "      <td>2</td>\n",
       "      <td>3</td>\n",
       "      <td>3</td>\n",
       "      <td>4</td>\n",
       "      <td>4</td>\n",
       "      <td>4</td>\n",
       "      <td>2</td>\n",
       "      <td>0</td>\n",
       "      <td>0.0</td>\n",
       "    </tr>\n",
       "    <tr>\n",
       "      <th>129483</th>\n",
       "      <td>0.0</td>\n",
       "      <td>1.0</td>\n",
       "      <td>63</td>\n",
       "      <td>1.0</td>\n",
       "      <td>Business</td>\n",
       "      <td>2087</td>\n",
       "      <td>2</td>\n",
       "      <td>3</td>\n",
       "      <td>2</td>\n",
       "      <td>4</td>\n",
       "      <td>2</td>\n",
       "      <td>1</td>\n",
       "      <td>1</td>\n",
       "      <td>3</td>\n",
       "      <td>2</td>\n",
       "      <td>3</td>\n",
       "      <td>3</td>\n",
       "      <td>1</td>\n",
       "      <td>2</td>\n",
       "      <td>1</td>\n",
       "      <td>174</td>\n",
       "      <td>172.0</td>\n",
       "    </tr>\n",
       "    <tr>\n",
       "      <th>129484</th>\n",
       "      <td>0.0</td>\n",
       "      <td>1.0</td>\n",
       "      <td>69</td>\n",
       "      <td>1.0</td>\n",
       "      <td>Eco</td>\n",
       "      <td>2320</td>\n",
       "      <td>3</td>\n",
       "      <td>0</td>\n",
       "      <td>3</td>\n",
       "      <td>3</td>\n",
       "      <td>3</td>\n",
       "      <td>2</td>\n",
       "      <td>2</td>\n",
       "      <td>4</td>\n",
       "      <td>4</td>\n",
       "      <td>3</td>\n",
       "      <td>4</td>\n",
       "      <td>2</td>\n",
       "      <td>3</td>\n",
       "      <td>2</td>\n",
       "      <td>155</td>\n",
       "      <td>163.0</td>\n",
       "    </tr>\n",
       "    <tr>\n",
       "      <th>129485</th>\n",
       "      <td>0.0</td>\n",
       "      <td>1.0</td>\n",
       "      <td>66</td>\n",
       "      <td>1.0</td>\n",
       "      <td>Eco</td>\n",
       "      <td>2450</td>\n",
       "      <td>3</td>\n",
       "      <td>2</td>\n",
       "      <td>3</td>\n",
       "      <td>2</td>\n",
       "      <td>3</td>\n",
       "      <td>2</td>\n",
       "      <td>2</td>\n",
       "      <td>3</td>\n",
       "      <td>3</td>\n",
       "      <td>2</td>\n",
       "      <td>3</td>\n",
       "      <td>2</td>\n",
       "      <td>1</td>\n",
       "      <td>2</td>\n",
       "      <td>193</td>\n",
       "      <td>205.0</td>\n",
       "    </tr>\n",
       "    <tr>\n",
       "      <th>129486</th>\n",
       "      <td>0.0</td>\n",
       "      <td>1.0</td>\n",
       "      <td>38</td>\n",
       "      <td>1.0</td>\n",
       "      <td>Eco</td>\n",
       "      <td>4307</td>\n",
       "      <td>3</td>\n",
       "      <td>4</td>\n",
       "      <td>3</td>\n",
       "      <td>3</td>\n",
       "      <td>3</td>\n",
       "      <td>3</td>\n",
       "      <td>3</td>\n",
       "      <td>4</td>\n",
       "      <td>5</td>\n",
       "      <td>5</td>\n",
       "      <td>5</td>\n",
       "      <td>3</td>\n",
       "      <td>3</td>\n",
       "      <td>3</td>\n",
       "      <td>185</td>\n",
       "      <td>186.0</td>\n",
       "    </tr>\n",
       "  </tbody>\n",
       "</table>\n",
       "<p>129487 rows × 22 columns</p>\n",
       "</div>"
      ],
      "text/plain": [
       "        satisfaction  Customer Type  Age  Type of Travel     Class  \\\n",
       "0                1.0            0.0   65             1.0       Eco   \n",
       "1                1.0            0.0   47             1.0  Business   \n",
       "2                1.0            0.0   15             1.0       Eco   \n",
       "3                1.0            0.0   60             1.0       Eco   \n",
       "4                1.0            0.0   70             1.0       Eco   \n",
       "...              ...            ...  ...             ...       ...   \n",
       "129482           1.0            1.0   29             1.0       Eco   \n",
       "129483           0.0            1.0   63             1.0  Business   \n",
       "129484           0.0            1.0   69             1.0       Eco   \n",
       "129485           0.0            1.0   66             1.0       Eco   \n",
       "129486           0.0            1.0   38             1.0       Eco   \n",
       "\n",
       "        Flight Distance  Seat comfort  Departure/Arrival time convenient  \\\n",
       "0                   265             0                                  0   \n",
       "1                  2464             0                                  0   \n",
       "2                  2138             0                                  0   \n",
       "3                   623             0                                  0   \n",
       "4                   354             0                                  0   \n",
       "...                 ...           ...                                ...   \n",
       "129482             1731             5                                  5   \n",
       "129483             2087             2                                  3   \n",
       "129484             2320             3                                  0   \n",
       "129485             2450             3                                  2   \n",
       "129486             4307             3                                  4   \n",
       "\n",
       "        Food and drink  Gate location  Inflight wifi service  \\\n",
       "0                    0              2                      2   \n",
       "1                    0              3                      0   \n",
       "2                    0              3                      2   \n",
       "3                    0              3                      3   \n",
       "4                    0              3                      4   \n",
       "...                ...            ...                    ...   \n",
       "129482               5              3                      2   \n",
       "129483               2              4                      2   \n",
       "129484               3              3                      3   \n",
       "129485               3              2                      3   \n",
       "129486               3              3                      3   \n",
       "\n",
       "        Inflight entertainment  Online support  Ease of Online booking  \\\n",
       "0                            4               2                       3   \n",
       "1                            2               2                       3   \n",
       "2                            0               2                       2   \n",
       "3                            4               3                       1   \n",
       "4                            3               4                       2   \n",
       "...                        ...             ...                     ...   \n",
       "129482                       5               2                       2   \n",
       "129483                       1               1                       3   \n",
       "129484                       2               2                       4   \n",
       "129485                       2               2                       3   \n",
       "129486                       3               3                       4   \n",
       "\n",
       "        On-board service  Leg room service  Baggage handling  Checkin service  \\\n",
       "0                      3                 0                 3                5   \n",
       "1                      4                 4                 4                2   \n",
       "2                      3                 3                 4                4   \n",
       "3                      1                 0                 1                4   \n",
       "4                      2                 0                 2                4   \n",
       "...                  ...               ...               ...              ...   \n",
       "129482                 3                 3                 4                4   \n",
       "129483                 2                 3                 3                1   \n",
       "129484                 4                 3                 4                2   \n",
       "129485                 3                 2                 3                2   \n",
       "129486                 5                 5                 5                3   \n",
       "\n",
       "        Cleanliness  Online boarding  Departure Delay in Minutes  \\\n",
       "0                 3                2                           0   \n",
       "1                 3                2                         310   \n",
       "2                 4                2                           0   \n",
       "3                 1                3                           0   \n",
       "4                 2                5                           0   \n",
       "...             ...              ...                         ...   \n",
       "129482            4                2                           0   \n",
       "129483            2                1                         174   \n",
       "129484            3                2                         155   \n",
       "129485            1                2                         193   \n",
       "129486            3                3                         185   \n",
       "\n",
       "        Arrival Delay in Minutes  \n",
       "0                            0.0  \n",
       "1                          305.0  \n",
       "2                            0.0  \n",
       "3                            0.0  \n",
       "4                            0.0  \n",
       "...                          ...  \n",
       "129482                       0.0  \n",
       "129483                     172.0  \n",
       "129484                     163.0  \n",
       "129485                     205.0  \n",
       "129486                     186.0  \n",
       "\n",
       "[129487 rows x 22 columns]"
      ]
     },
     "execution_count": 17,
     "metadata": {},
     "output_type": "execute_result"
    }
   ],
   "source": [
    "df1['Type of Travel'] = OneHotEncoder(drop='first').fit_transform(df1[['Type of Travel']]).toarray()\n",
    "df1"
   ]
  },
  {
   "cell_type": "code",
   "execution_count": 18,
   "id": "42a8bea2",
   "metadata": {
    "execution": {
     "iopub.execute_input": "2024-06-30T08:53:25.816690Z",
     "iopub.status.busy": "2024-06-30T08:53:25.816393Z",
     "iopub.status.idle": "2024-06-30T08:53:25.824774Z",
     "shell.execute_reply": "2024-06-30T08:53:25.824055Z"
    },
    "papermill": {
     "duration": 0.022445,
     "end_time": "2024-06-30T08:53:25.826332",
     "exception": false,
     "start_time": "2024-06-30T08:53:25.803887",
     "status": "completed"
    },
    "tags": []
   },
   "outputs": [
    {
     "data": {
      "text/plain": [
       "Type of Travel\n",
       "0.0    89445\n",
       "1.0    40042\n",
       "Name: count, dtype: int64"
      ]
     },
     "execution_count": 18,
     "metadata": {},
     "output_type": "execute_result"
    }
   ],
   "source": [
    "df1['Type of Travel'].value_counts()"
   ]
  },
  {
   "cell_type": "code",
   "execution_count": 19,
   "id": "399b182a",
   "metadata": {
    "execution": {
     "iopub.execute_input": "2024-06-30T08:53:25.851766Z",
     "iopub.status.busy": "2024-06-30T08:53:25.851458Z",
     "iopub.status.idle": "2024-06-30T08:53:25.889653Z",
     "shell.execute_reply": "2024-06-30T08:53:25.888928Z"
    },
    "papermill": {
     "duration": 0.053477,
     "end_time": "2024-06-30T08:53:25.891563",
     "exception": false,
     "start_time": "2024-06-30T08:53:25.838086",
     "status": "completed"
    },
    "tags": []
   },
   "outputs": [
    {
     "data": {
      "text/html": [
       "<div>\n",
       "<style scoped>\n",
       "    .dataframe tbody tr th:only-of-type {\n",
       "        vertical-align: middle;\n",
       "    }\n",
       "\n",
       "    .dataframe tbody tr th {\n",
       "        vertical-align: top;\n",
       "    }\n",
       "\n",
       "    .dataframe thead th {\n",
       "        text-align: right;\n",
       "    }\n",
       "</style>\n",
       "<table border=\"1\" class=\"dataframe\">\n",
       "  <thead>\n",
       "    <tr style=\"text-align: right;\">\n",
       "      <th></th>\n",
       "      <th>satisfaction</th>\n",
       "      <th>Customer Type</th>\n",
       "      <th>Age</th>\n",
       "      <th>Type of Travel</th>\n",
       "      <th>Class</th>\n",
       "      <th>Flight Distance</th>\n",
       "      <th>Seat comfort</th>\n",
       "      <th>Departure/Arrival time convenient</th>\n",
       "      <th>Food and drink</th>\n",
       "      <th>Gate location</th>\n",
       "      <th>Inflight wifi service</th>\n",
       "      <th>Inflight entertainment</th>\n",
       "      <th>Online support</th>\n",
       "      <th>Ease of Online booking</th>\n",
       "      <th>On-board service</th>\n",
       "      <th>Leg room service</th>\n",
       "      <th>Baggage handling</th>\n",
       "      <th>Checkin service</th>\n",
       "      <th>Cleanliness</th>\n",
       "      <th>Online boarding</th>\n",
       "      <th>Departure Delay in Minutes</th>\n",
       "      <th>Arrival Delay in Minutes</th>\n",
       "    </tr>\n",
       "  </thead>\n",
       "  <tbody>\n",
       "    <tr>\n",
       "      <th>0</th>\n",
       "      <td>1.0</td>\n",
       "      <td>0.0</td>\n",
       "      <td>65</td>\n",
       "      <td>1.0</td>\n",
       "      <td>1</td>\n",
       "      <td>265</td>\n",
       "      <td>0</td>\n",
       "      <td>0</td>\n",
       "      <td>0</td>\n",
       "      <td>2</td>\n",
       "      <td>2</td>\n",
       "      <td>4</td>\n",
       "      <td>2</td>\n",
       "      <td>3</td>\n",
       "      <td>3</td>\n",
       "      <td>0</td>\n",
       "      <td>3</td>\n",
       "      <td>5</td>\n",
       "      <td>3</td>\n",
       "      <td>2</td>\n",
       "      <td>0</td>\n",
       "      <td>0.0</td>\n",
       "    </tr>\n",
       "    <tr>\n",
       "      <th>1</th>\n",
       "      <td>1.0</td>\n",
       "      <td>0.0</td>\n",
       "      <td>47</td>\n",
       "      <td>1.0</td>\n",
       "      <td>0</td>\n",
       "      <td>2464</td>\n",
       "      <td>0</td>\n",
       "      <td>0</td>\n",
       "      <td>0</td>\n",
       "      <td>3</td>\n",
       "      <td>0</td>\n",
       "      <td>2</td>\n",
       "      <td>2</td>\n",
       "      <td>3</td>\n",
       "      <td>4</td>\n",
       "      <td>4</td>\n",
       "      <td>4</td>\n",
       "      <td>2</td>\n",
       "      <td>3</td>\n",
       "      <td>2</td>\n",
       "      <td>310</td>\n",
       "      <td>305.0</td>\n",
       "    </tr>\n",
       "    <tr>\n",
       "      <th>2</th>\n",
       "      <td>1.0</td>\n",
       "      <td>0.0</td>\n",
       "      <td>15</td>\n",
       "      <td>1.0</td>\n",
       "      <td>1</td>\n",
       "      <td>2138</td>\n",
       "      <td>0</td>\n",
       "      <td>0</td>\n",
       "      <td>0</td>\n",
       "      <td>3</td>\n",
       "      <td>2</td>\n",
       "      <td>0</td>\n",
       "      <td>2</td>\n",
       "      <td>2</td>\n",
       "      <td>3</td>\n",
       "      <td>3</td>\n",
       "      <td>4</td>\n",
       "      <td>4</td>\n",
       "      <td>4</td>\n",
       "      <td>2</td>\n",
       "      <td>0</td>\n",
       "      <td>0.0</td>\n",
       "    </tr>\n",
       "    <tr>\n",
       "      <th>3</th>\n",
       "      <td>1.0</td>\n",
       "      <td>0.0</td>\n",
       "      <td>60</td>\n",
       "      <td>1.0</td>\n",
       "      <td>1</td>\n",
       "      <td>623</td>\n",
       "      <td>0</td>\n",
       "      <td>0</td>\n",
       "      <td>0</td>\n",
       "      <td>3</td>\n",
       "      <td>3</td>\n",
       "      <td>4</td>\n",
       "      <td>3</td>\n",
       "      <td>1</td>\n",
       "      <td>1</td>\n",
       "      <td>0</td>\n",
       "      <td>1</td>\n",
       "      <td>4</td>\n",
       "      <td>1</td>\n",
       "      <td>3</td>\n",
       "      <td>0</td>\n",
       "      <td>0.0</td>\n",
       "    </tr>\n",
       "    <tr>\n",
       "      <th>4</th>\n",
       "      <td>1.0</td>\n",
       "      <td>0.0</td>\n",
       "      <td>70</td>\n",
       "      <td>1.0</td>\n",
       "      <td>1</td>\n",
       "      <td>354</td>\n",
       "      <td>0</td>\n",
       "      <td>0</td>\n",
       "      <td>0</td>\n",
       "      <td>3</td>\n",
       "      <td>4</td>\n",
       "      <td>3</td>\n",
       "      <td>4</td>\n",
       "      <td>2</td>\n",
       "      <td>2</td>\n",
       "      <td>0</td>\n",
       "      <td>2</td>\n",
       "      <td>4</td>\n",
       "      <td>2</td>\n",
       "      <td>5</td>\n",
       "      <td>0</td>\n",
       "      <td>0.0</td>\n",
       "    </tr>\n",
       "  </tbody>\n",
       "</table>\n",
       "</div>"
      ],
      "text/plain": [
       "   satisfaction  Customer Type  Age  Type of Travel  Class  Flight Distance  \\\n",
       "0           1.0            0.0   65             1.0      1              265   \n",
       "1           1.0            0.0   47             1.0      0             2464   \n",
       "2           1.0            0.0   15             1.0      1             2138   \n",
       "3           1.0            0.0   60             1.0      1              623   \n",
       "4           1.0            0.0   70             1.0      1              354   \n",
       "\n",
       "   Seat comfort  Departure/Arrival time convenient  Food and drink  \\\n",
       "0             0                                  0               0   \n",
       "1             0                                  0               0   \n",
       "2             0                                  0               0   \n",
       "3             0                                  0               0   \n",
       "4             0                                  0               0   \n",
       "\n",
       "   Gate location  Inflight wifi service  Inflight entertainment  \\\n",
       "0              2                      2                       4   \n",
       "1              3                      0                       2   \n",
       "2              3                      2                       0   \n",
       "3              3                      3                       4   \n",
       "4              3                      4                       3   \n",
       "\n",
       "   Online support  Ease of Online booking  On-board service  Leg room service  \\\n",
       "0               2                       3                 3                 0   \n",
       "1               2                       3                 4                 4   \n",
       "2               2                       2                 3                 3   \n",
       "3               3                       1                 1                 0   \n",
       "4               4                       2                 2                 0   \n",
       "\n",
       "   Baggage handling  Checkin service  Cleanliness  Online boarding  \\\n",
       "0                 3                5            3                2   \n",
       "1                 4                2            3                2   \n",
       "2                 4                4            4                2   \n",
       "3                 1                4            1                3   \n",
       "4                 2                4            2                5   \n",
       "\n",
       "   Departure Delay in Minutes  Arrival Delay in Minutes  \n",
       "0                           0                       0.0  \n",
       "1                         310                     305.0  \n",
       "2                           0                       0.0  \n",
       "3                           0                       0.0  \n",
       "4                           0                       0.0  "
      ]
     },
     "execution_count": 19,
     "metadata": {},
     "output_type": "execute_result"
    }
   ],
   "source": [
    "from sklearn.preprocessing import LabelEncoder\n",
    "## label encoding for the Embarked as it contains 3 values\n",
    "label_encoder = LabelEncoder()\n",
    "\n",
    "# Fit and transform the 'Embarked' column\n",
    "df1['Class'] = label_encoder.fit_transform(df1['Class'])\n",
    "\n",
    "df1.head()"
   ]
  },
  {
   "cell_type": "code",
   "execution_count": 20,
   "id": "e893adb1",
   "metadata": {
    "execution": {
     "iopub.execute_input": "2024-06-30T08:53:25.916674Z",
     "iopub.status.busy": "2024-06-30T08:53:25.916400Z",
     "iopub.status.idle": "2024-06-30T08:53:25.923185Z",
     "shell.execute_reply": "2024-06-30T08:53:25.922521Z"
    },
    "papermill": {
     "duration": 0.020957,
     "end_time": "2024-06-30T08:53:25.924762",
     "exception": false,
     "start_time": "2024-06-30T08:53:25.903805",
     "status": "completed"
    },
    "tags": []
   },
   "outputs": [],
   "source": [
    "y=df1['satisfaction']\n",
    "X=df1.drop('satisfaction',axis=1)"
   ]
  },
  {
   "cell_type": "code",
   "execution_count": 21,
   "id": "50cb299c",
   "metadata": {
    "execution": {
     "iopub.execute_input": "2024-06-30T08:53:25.950241Z",
     "iopub.status.busy": "2024-06-30T08:53:25.949963Z",
     "iopub.status.idle": "2024-06-30T08:53:25.973354Z",
     "shell.execute_reply": "2024-06-30T08:53:25.972485Z"
    },
    "papermill": {
     "duration": 0.038122,
     "end_time": "2024-06-30T08:53:25.975492",
     "exception": false,
     "start_time": "2024-06-30T08:53:25.937370",
     "status": "completed"
    },
    "tags": []
   },
   "outputs": [
    {
     "data": {
      "text/html": [
       "<style>#sk-container-id-1 {color: black;background-color: white;}#sk-container-id-1 pre{padding: 0;}#sk-container-id-1 div.sk-toggleable {background-color: white;}#sk-container-id-1 label.sk-toggleable__label {cursor: pointer;display: block;width: 100%;margin-bottom: 0;padding: 0.3em;box-sizing: border-box;text-align: center;}#sk-container-id-1 label.sk-toggleable__label-arrow:before {content: \"▸\";float: left;margin-right: 0.25em;color: #696969;}#sk-container-id-1 label.sk-toggleable__label-arrow:hover:before {color: black;}#sk-container-id-1 div.sk-estimator:hover label.sk-toggleable__label-arrow:before {color: black;}#sk-container-id-1 div.sk-toggleable__content {max-height: 0;max-width: 0;overflow: hidden;text-align: left;background-color: #f0f8ff;}#sk-container-id-1 div.sk-toggleable__content pre {margin: 0.2em;color: black;border-radius: 0.25em;background-color: #f0f8ff;}#sk-container-id-1 input.sk-toggleable__control:checked~div.sk-toggleable__content {max-height: 200px;max-width: 100%;overflow: auto;}#sk-container-id-1 input.sk-toggleable__control:checked~label.sk-toggleable__label-arrow:before {content: \"▾\";}#sk-container-id-1 div.sk-estimator input.sk-toggleable__control:checked~label.sk-toggleable__label {background-color: #d4ebff;}#sk-container-id-1 div.sk-label input.sk-toggleable__control:checked~label.sk-toggleable__label {background-color: #d4ebff;}#sk-container-id-1 input.sk-hidden--visually {border: 0;clip: rect(1px 1px 1px 1px);clip: rect(1px, 1px, 1px, 1px);height: 1px;margin: -1px;overflow: hidden;padding: 0;position: absolute;width: 1px;}#sk-container-id-1 div.sk-estimator {font-family: monospace;background-color: #f0f8ff;border: 1px dotted black;border-radius: 0.25em;box-sizing: border-box;margin-bottom: 0.5em;}#sk-container-id-1 div.sk-estimator:hover {background-color: #d4ebff;}#sk-container-id-1 div.sk-parallel-item::after {content: \"\";width: 100%;border-bottom: 1px solid gray;flex-grow: 1;}#sk-container-id-1 div.sk-label:hover label.sk-toggleable__label {background-color: #d4ebff;}#sk-container-id-1 div.sk-serial::before {content: \"\";position: absolute;border-left: 1px solid gray;box-sizing: border-box;top: 0;bottom: 0;left: 50%;z-index: 0;}#sk-container-id-1 div.sk-serial {display: flex;flex-direction: column;align-items: center;background-color: white;padding-right: 0.2em;padding-left: 0.2em;position: relative;}#sk-container-id-1 div.sk-item {position: relative;z-index: 1;}#sk-container-id-1 div.sk-parallel {display: flex;align-items: stretch;justify-content: center;background-color: white;position: relative;}#sk-container-id-1 div.sk-item::before, #sk-container-id-1 div.sk-parallel-item::before {content: \"\";position: absolute;border-left: 1px solid gray;box-sizing: border-box;top: 0;bottom: 0;left: 50%;z-index: -1;}#sk-container-id-1 div.sk-parallel-item {display: flex;flex-direction: column;z-index: 1;position: relative;background-color: white;}#sk-container-id-1 div.sk-parallel-item:first-child::after {align-self: flex-end;width: 50%;}#sk-container-id-1 div.sk-parallel-item:last-child::after {align-self: flex-start;width: 50%;}#sk-container-id-1 div.sk-parallel-item:only-child::after {width: 0;}#sk-container-id-1 div.sk-dashed-wrapped {border: 1px dashed gray;margin: 0 0.4em 0.5em 0.4em;box-sizing: border-box;padding-bottom: 0.4em;background-color: white;}#sk-container-id-1 div.sk-label label {font-family: monospace;font-weight: bold;display: inline-block;line-height: 1.2em;}#sk-container-id-1 div.sk-label-container {text-align: center;}#sk-container-id-1 div.sk-container {/* jupyter's `normalize.less` sets `[hidden] { display: none; }` but bootstrap.min.css set `[hidden] { display: none !important; }` so we also need the `!important` here to be able to override the default hidden behavior on the sphinx rendered scikit-learn.org. See: https://github.com/scikit-learn/scikit-learn/issues/21755 */display: inline-block !important;position: relative;}#sk-container-id-1 div.sk-text-repr-fallback {display: none;}</style><div id=\"sk-container-id-1\" class=\"sk-top-container\"><div class=\"sk-text-repr-fallback\"><pre>StandardScaler()</pre><b>In a Jupyter environment, please rerun this cell to show the HTML representation or trust the notebook. <br />On GitHub, the HTML representation is unable to render, please try loading this page with nbviewer.org.</b></div><div class=\"sk-container\" hidden><div class=\"sk-item\"><div class=\"sk-estimator sk-toggleable\"><input class=\"sk-toggleable__control sk-hidden--visually\" id=\"sk-estimator-id-1\" type=\"checkbox\" checked><label for=\"sk-estimator-id-1\" class=\"sk-toggleable__label sk-toggleable__label-arrow\">StandardScaler</label><div class=\"sk-toggleable__content\"><pre>StandardScaler()</pre></div></div></div></div></div>"
      ],
      "text/plain": [
       "StandardScaler()"
      ]
     },
     "execution_count": 21,
     "metadata": {},
     "output_type": "execute_result"
    }
   ],
   "source": [
    "scaler.fit(X)"
   ]
  },
  {
   "cell_type": "code",
   "execution_count": 22,
   "id": "cb5e678b",
   "metadata": {
    "execution": {
     "iopub.execute_input": "2024-06-30T08:53:26.001173Z",
     "iopub.status.busy": "2024-06-30T08:53:26.000952Z",
     "iopub.status.idle": "2024-06-30T08:53:26.017817Z",
     "shell.execute_reply": "2024-06-30T08:53:26.016989Z"
    },
    "papermill": {
     "duration": 0.031883,
     "end_time": "2024-06-30T08:53:26.019750",
     "exception": false,
     "start_time": "2024-06-30T08:53:25.987867",
     "status": "completed"
    },
    "tags": []
   },
   "outputs": [],
   "source": [
    "scaled_data=scaler.transform(X)"
   ]
  },
  {
   "cell_type": "code",
   "execution_count": 23,
   "id": "c95eee74",
   "metadata": {
    "execution": {
     "iopub.execute_input": "2024-06-30T08:53:26.046395Z",
     "iopub.status.busy": "2024-06-30T08:53:26.046162Z",
     "iopub.status.idle": "2024-06-30T08:53:26.068355Z",
     "shell.execute_reply": "2024-06-30T08:53:26.067676Z"
    },
    "papermill": {
     "duration": 0.038291,
     "end_time": "2024-06-30T08:53:26.070248",
     "exception": false,
     "start_time": "2024-06-30T08:53:26.031957",
     "status": "completed"
    },
    "tags": []
   },
   "outputs": [],
   "source": [
    "from sklearn.decomposition import PCA\n",
    "pca=PCA(n_components=1)"
   ]
  },
  {
   "cell_type": "code",
   "execution_count": 24,
   "id": "4f003ff0",
   "metadata": {
    "execution": {
     "iopub.execute_input": "2024-06-30T08:53:26.096021Z",
     "iopub.status.busy": "2024-06-30T08:53:26.095755Z",
     "iopub.status.idle": "2024-06-30T08:53:26.307322Z",
     "shell.execute_reply": "2024-06-30T08:53:26.306428Z"
    },
    "papermill": {
     "duration": 0.226936,
     "end_time": "2024-06-30T08:53:26.309547",
     "exception": false,
     "start_time": "2024-06-30T08:53:26.082611",
     "status": "completed"
    },
    "tags": []
   },
   "outputs": [],
   "source": [
    "data_pca=pca.fit_transform(scaled_data)"
   ]
  },
  {
   "cell_type": "code",
   "execution_count": 25,
   "id": "3d6eea5e",
   "metadata": {
    "execution": {
     "iopub.execute_input": "2024-06-30T08:53:26.363481Z",
     "iopub.status.busy": "2024-06-30T08:53:26.363170Z",
     "iopub.status.idle": "2024-06-30T08:53:26.369315Z",
     "shell.execute_reply": "2024-06-30T08:53:26.368567Z"
    },
    "papermill": {
     "duration": 0.040629,
     "end_time": "2024-06-30T08:53:26.371540",
     "exception": false,
     "start_time": "2024-06-30T08:53:26.330911",
     "status": "completed"
    },
    "tags": []
   },
   "outputs": [
    {
     "data": {
      "text/plain": [
       "array([[2.69113882],\n",
       "       [3.43076359],\n",
       "       [3.2298903 ],\n",
       "       ...,\n",
       "       [1.93326605],\n",
       "       [3.383859  ],\n",
       "       [0.19812187]])"
      ]
     },
     "execution_count": 25,
     "metadata": {},
     "output_type": "execute_result"
    }
   ],
   "source": [
    "X=data_pca\n",
    "X"
   ]
  },
  {
   "cell_type": "code",
   "execution_count": 26,
   "id": "4ee7277a",
   "metadata": {
    "execution": {
     "iopub.execute_input": "2024-06-30T08:53:26.410616Z",
     "iopub.status.busy": "2024-06-30T08:53:26.410308Z",
     "iopub.status.idle": "2024-06-30T08:53:26.422279Z",
     "shell.execute_reply": "2024-06-30T08:53:26.421491Z"
    },
    "papermill": {
     "duration": 0.028664,
     "end_time": "2024-06-30T08:53:26.424127",
     "exception": false,
     "start_time": "2024-06-30T08:53:26.395463",
     "status": "completed"
    },
    "tags": []
   },
   "outputs": [],
   "source": [
    "X_train, X_test, y_train, y_test = train_test_split(X,y, test_size=0.3, random_state=42)"
   ]
  },
  {
   "cell_type": "markdown",
   "id": "4f8c5e3a",
   "metadata": {
    "papermill": {
     "duration": 0.012089,
     "end_time": "2024-06-30T08:53:26.448943",
     "exception": false,
     "start_time": "2024-06-30T08:53:26.436854",
     "status": "completed"
    },
    "tags": []
   },
   "source": [
    "\n",
    "<span style=\"background-color:deepskyblue;\n",
    "             color:yellow;\n",
    "             font-size:20px;\n",
    "             text-align:center;\n",
    "               border-radius:40px 90px;\n",
    "             font-weight:bold;\n",
    "             border:2px solid yellow;\n",
    "             padding:15px 50px;\">3. Model building\n",
    "</span>"
   ]
  },
  {
   "cell_type": "markdown",
   "id": "c98cceb6",
   "metadata": {
    "papermill": {
     "duration": 0.011738,
     "end_time": "2024-06-30T08:53:26.472713",
     "exception": false,
     "start_time": "2024-06-30T08:53:26.460975",
     "status": "completed"
    },
    "tags": []
   },
   "source": [
    "### <span style=\"color:red; font-size:20px;\">Fit a LogisticRegression model to the data using pca\n",
    "</span>\n"
   ]
  },
  {
   "cell_type": "code",
   "execution_count": 27,
   "id": "9056aa7e",
   "metadata": {
    "execution": {
     "iopub.execute_input": "2024-06-30T08:53:26.498072Z",
     "iopub.status.busy": "2024-06-30T08:53:26.497765Z",
     "iopub.status.idle": "2024-06-30T08:53:26.553791Z",
     "shell.execute_reply": "2024-06-30T08:53:26.553035Z"
    },
    "papermill": {
     "duration": 0.070988,
     "end_time": "2024-06-30T08:53:26.555662",
     "exception": false,
     "start_time": "2024-06-30T08:53:26.484674",
     "status": "completed"
    },
    "tags": []
   },
   "outputs": [],
   "source": [
    "clf = LogisticRegression().fit(X_train,y_train)"
   ]
  },
  {
   "cell_type": "markdown",
   "id": "e636da82",
   "metadata": {
    "papermill": {
     "duration": 0.015575,
     "end_time": "2024-06-30T08:53:26.587305",
     "exception": false,
     "start_time": "2024-06-30T08:53:26.571730",
     "status": "completed"
    },
    "tags": []
   },
   "source": [
    "# <span style=\"color:red; font-size:20px;\">Obtain parameter estimates</span>\n"
   ]
  },
  {
   "cell_type": "code",
   "execution_count": 28,
   "id": "a407810d",
   "metadata": {
    "execution": {
     "iopub.execute_input": "2024-06-30T08:53:26.622576Z",
     "iopub.status.busy": "2024-06-30T08:53:26.622259Z",
     "iopub.status.idle": "2024-06-30T08:53:26.627519Z",
     "shell.execute_reply": "2024-06-30T08:53:26.626777Z"
    },
    "papermill": {
     "duration": 0.026057,
     "end_time": "2024-06-30T08:53:26.629266",
     "exception": false,
     "start_time": "2024-06-30T08:53:26.603209",
     "status": "completed"
    },
    "tags": []
   },
   "outputs": [
    {
     "data": {
      "text/plain": [
       "array([[-0.79421854]])"
      ]
     },
     "execution_count": 28,
     "metadata": {},
     "output_type": "execute_result"
    }
   ],
   "source": [
    "clf.coef_"
   ]
  },
  {
   "cell_type": "code",
   "execution_count": 29,
   "id": "9558bef3",
   "metadata": {
    "execution": {
     "iopub.execute_input": "2024-06-30T08:53:26.663043Z",
     "iopub.status.busy": "2024-06-30T08:53:26.662729Z",
     "iopub.status.idle": "2024-06-30T08:53:26.668099Z",
     "shell.execute_reply": "2024-06-30T08:53:26.667325Z"
    },
    "papermill": {
     "duration": 0.024105,
     "end_time": "2024-06-30T08:53:26.669732",
     "exception": false,
     "start_time": "2024-06-30T08:53:26.645627",
     "status": "completed"
    },
    "tags": []
   },
   "outputs": [
    {
     "data": {
      "text/plain": [
       "array([0.2323425])"
      ]
     },
     "execution_count": 29,
     "metadata": {},
     "output_type": "execute_result"
    }
   ],
   "source": [
    "clf.intercept_"
   ]
  },
  {
   "cell_type": "markdown",
   "id": "f8674e48",
   "metadata": {
    "papermill": {
     "duration": 0.012128,
     "end_time": "2024-06-30T08:53:26.694503",
     "exception": false,
     "start_time": "2024-06-30T08:53:26.682375",
     "status": "completed"
    },
    "tags": []
   },
   "source": [
    "<span style=\"background-color:deepskyblue;\n",
    "             color:yellow;\n",
    "             font-size:20px;\n",
    "             text-align:center;\n",
    "               border-radius:40px 90px;\n",
    "             font-weight:bold;\n",
    "             border:2px solid yellow;\n",
    "             padding:15px 50px;\">4. Results and evaluation\n",
    "</span>"
   ]
  },
  {
   "cell_type": "markdown",
   "id": "0676491f",
   "metadata": {
    "papermill": {
     "duration": 0.012045,
     "end_time": "2024-06-30T08:53:26.719053",
     "exception": false,
     "start_time": "2024-06-30T08:53:26.707008",
     "status": "completed"
    },
    "tags": []
   },
   "source": [
    "# <span style=\"color:red; font-size:20px;\">Predicting the outcome for the test dataset</span>\n",
    "\n",
    "Now that we've finished our regression, let's review and analyze the results. First, we'll input the holdout dataset into the `predict` function to obtain the predicted labels from the model."
   ]
  },
  {
   "cell_type": "code",
   "execution_count": 30,
   "id": "5176cf42",
   "metadata": {
    "execution": {
     "iopub.execute_input": "2024-06-30T08:53:26.745155Z",
     "iopub.status.busy": "2024-06-30T08:53:26.744852Z",
     "iopub.status.idle": "2024-06-30T08:53:26.749039Z",
     "shell.execute_reply": "2024-06-30T08:53:26.748418Z"
    },
    "papermill": {
     "duration": 0.019213,
     "end_time": "2024-06-30T08:53:26.750543",
     "exception": false,
     "start_time": "2024-06-30T08:53:26.731330",
     "status": "completed"
    },
    "tags": []
   },
   "outputs": [],
   "source": [
    "# SavING predictions.\n",
    "\n",
    "y_pred = clf.predict(X_test)"
   ]
  },
  {
   "cell_type": "markdown",
   "id": "abee83f2",
   "metadata": {
    "papermill": {
     "duration": 0.012029,
     "end_time": "2024-06-30T08:53:26.775021",
     "exception": false,
     "start_time": "2024-06-30T08:53:26.762992",
     "status": "completed"
    },
    "tags": []
   },
   "source": [
    "# <span style=\"color:red; font-size:20px;\">Printing out y_pred</span>\n",
    "\n",
    "In order to examine the predictions, print out `y_pred`."
   ]
  },
  {
   "cell_type": "code",
   "execution_count": 31,
   "id": "d306bead",
   "metadata": {
    "execution": {
     "iopub.execute_input": "2024-06-30T08:53:26.800867Z",
     "iopub.status.busy": "2024-06-30T08:53:26.800520Z",
     "iopub.status.idle": "2024-06-30T08:53:26.805519Z",
     "shell.execute_reply": "2024-06-30T08:53:26.804542Z"
    },
    "papermill": {
     "duration": 0.02033,
     "end_time": "2024-06-30T08:53:26.807540",
     "exception": false,
     "start_time": "2024-06-30T08:53:26.787210",
     "status": "completed"
    },
    "tags": []
   },
   "outputs": [
    {
     "name": "stdout",
     "output_type": "stream",
     "text": [
      "[1. 1. 0. ... 0. 1. 1.]\n"
     ]
    }
   ],
   "source": [
    "print(y_pred)"
   ]
  },
  {
   "cell_type": "markdown",
   "id": "66343fb7",
   "metadata": {
    "papermill": {
     "duration": 0.012207,
     "end_time": "2024-06-30T08:53:26.832601",
     "exception": false,
     "start_time": "2024-06-30T08:53:26.820394",
     "status": "completed"
    },
    "tags": []
   },
   "source": [
    "# <span style=\"color:red; font-size:20px;\">Using the `predict_proba` and `predict` functions on `X_test</span>\n"
   ]
  },
  {
   "cell_type": "code",
   "execution_count": 32,
   "id": "1bebb21c",
   "metadata": {
    "execution": {
     "iopub.execute_input": "2024-06-30T08:53:26.859204Z",
     "iopub.status.busy": "2024-06-30T08:53:26.858891Z",
     "iopub.status.idle": "2024-06-30T08:53:26.865128Z",
     "shell.execute_reply": "2024-06-30T08:53:26.864371Z"
    },
    "papermill": {
     "duration": 0.021402,
     "end_time": "2024-06-30T08:53:26.866768",
     "exception": false,
     "start_time": "2024-06-30T08:53:26.845366",
     "status": "completed"
    },
    "tags": []
   },
   "outputs": [
    {
     "data": {
      "text/plain": [
       "array([[0.12491416, 0.87508584],\n",
       "       [0.30207486, 0.69792514],\n",
       "       [0.92957478, 0.07042522],\n",
       "       ...,\n",
       "       [0.89380834, 0.10619166],\n",
       "       [0.22881961, 0.77118039],\n",
       "       [0.33116454, 0.66883546]])"
      ]
     },
     "execution_count": 32,
     "metadata": {},
     "output_type": "execute_result"
    }
   ],
   "source": [
    "clf.predict_proba(X_test)"
   ]
  },
  {
   "cell_type": "code",
   "execution_count": 33,
   "id": "e1fa388e",
   "metadata": {
    "execution": {
     "iopub.execute_input": "2024-06-30T08:53:26.893685Z",
     "iopub.status.busy": "2024-06-30T08:53:26.893372Z",
     "iopub.status.idle": "2024-06-30T08:53:26.899291Z",
     "shell.execute_reply": "2024-06-30T08:53:26.898569Z"
    },
    "papermill": {
     "duration": 0.021157,
     "end_time": "2024-06-30T08:53:26.900881",
     "exception": false,
     "start_time": "2024-06-30T08:53:26.879724",
     "status": "completed"
    },
    "tags": []
   },
   "outputs": [
    {
     "data": {
      "text/plain": [
       "array([1., 1., 0., ..., 0., 1., 1.])"
      ]
     },
     "execution_count": 33,
     "metadata": {},
     "output_type": "execute_result"
    }
   ],
   "source": [
    "# Using predict to output 0's and 1's.\n",
    "\n",
    "clf.predict(X_test)"
   ]
  },
  {
   "cell_type": "markdown",
   "id": "3986ceb9",
   "metadata": {
    "papermill": {
     "duration": 0.012204,
     "end_time": "2024-06-30T08:53:26.926234",
     "exception": false,
     "start_time": "2024-06-30T08:53:26.914030",
     "status": "completed"
    },
    "tags": []
   },
   "source": [
    "# <span style=\"color:red; font-size:20px;\">Analyse the results</span>"
   ]
  },
  {
   "cell_type": "code",
   "execution_count": 34,
   "id": "7a96a95f",
   "metadata": {
    "execution": {
     "iopub.execute_input": "2024-06-30T08:53:26.952594Z",
     "iopub.status.busy": "2024-06-30T08:53:26.952312Z",
     "iopub.status.idle": "2024-06-30T08:53:27.019430Z",
     "shell.execute_reply": "2024-06-30T08:53:27.018387Z"
    },
    "papermill": {
     "duration": 0.082422,
     "end_time": "2024-06-30T08:53:27.021169",
     "exception": false,
     "start_time": "2024-06-30T08:53:26.938747",
     "status": "completed"
    },
    "tags": []
   },
   "outputs": [
    {
     "name": "stdout",
     "output_type": "stream",
     "text": [
      "Accuracy: 0.766211\n",
      "Precision: 0.771202\n",
      "Recall: 0.812948\n",
      "F1 Score: 0.791525\n"
     ]
    }
   ],
   "source": [
    "print(\"Accuracy:\", \"%.6f\" % metrics.accuracy_score(y_test, y_pred))\n",
    "print(\"Precision:\", \"%.6f\" % metrics.precision_score(y_test, y_pred))\n",
    "print(\"Recall:\", \"%.6f\" % metrics.recall_score(y_test, y_pred))\n",
    "print(\"F1 Score:\", \"%.6f\" % metrics.f1_score(y_test, y_pred))"
   ]
  },
  {
   "cell_type": "markdown",
   "id": "9caadae4",
   "metadata": {
    "papermill": {
     "duration": 0.012368,
     "end_time": "2024-06-30T08:53:27.046353",
     "exception": false,
     "start_time": "2024-06-30T08:53:27.033985",
     "status": "completed"
    },
    "tags": []
   },
   "source": [
    "## <span style=\"color:red; font-size:20px;\">Producing a confusion matrix</span> "
   ]
  },
  {
   "cell_type": "code",
   "execution_count": 35,
   "id": "cf36700e",
   "metadata": {
    "execution": {
     "iopub.execute_input": "2024-06-30T08:53:27.072728Z",
     "iopub.status.busy": "2024-06-30T08:53:27.072410Z",
     "iopub.status.idle": "2024-06-30T08:53:27.246722Z",
     "shell.execute_reply": "2024-06-30T08:53:27.245873Z"
    },
    "papermill": {
     "duration": 0.189646,
     "end_time": "2024-06-30T08:53:27.248534",
     "exception": false,
     "start_time": "2024-06-30T08:53:27.058888",
     "status": "completed"
    },
    "tags": []
   },
   "outputs": [
    {
     "data": {
      "image/png": "[encoded data removed]",
      "text/plain": [
       "<Figure size 640x480 with 2 Axes>"
      ]
     },
     "metadata": {},
     "output_type": "display_data"
    }
   ],
   "source": [
    "cm = metrics.confusion_matrix(y_test, y_pred, labels = clf.classes_)\n",
    "disp = metrics.ConfusionMatrixDisplay(confusion_matrix = cm,display_labels = clf.classes_)\n",
    "disp.plot()\n",
    "plt.show()"
   ]
  },
  {
   "cell_type": "markdown",
   "id": "30db763b",
   "metadata": {
    "papermill": {
     "duration": 0.013462,
     "end_time": "2024-06-30T08:53:27.278841",
     "exception": false,
     "start_time": "2024-06-30T08:53:27.265379",
     "status": "completed"
    },
    "tags": []
   },
   "source": [
    "# <span style=\"color:red; font-size:25px;\">Considerations</span>\n",
    "\n",
    "* **False positives and False negative** values relatively low under **5500.**\n",
    "\n",
    "* The **true positives and true negatives** —are both high numbers above **12,000.** \n",
    "\n",
    "* There isn't a large difference in the number of **false positives and false negatives.**\n",
    "\n",
    "* Logistic regression accurately predicted satisfaction **76.57 percent** of the time\n",
    "\n",
    "* The model is **76.57 percent accurate.** This is an improvement over the dataset's **customer satisfaction rate of 54.7 percent.**\n",
    "\n",
    "* **The success of the model suggests that the airline should invest more in model developement to examine if adding more independent variables leads to better results.**\n",
    "\n",
    "\n"
   ]
  },
  {
   "cell_type": "code",
   "execution_count": null,
   "id": "1d288bbe",
   "metadata": {
    "papermill": {
     "duration": 0.012391,
     "end_time": "2024-06-30T08:53:27.303838",
     "exception": false,
     "start_time": "2024-06-30T08:53:27.291447",
     "status": "completed"
    },
    "tags": []
   },
   "outputs": [],
   "source": []
  }
 ],
 "metadata": {
  "kaggle": {
   "accelerator": "none",
   "dataSources": [
    {
     "datasetId": 4952797,
     "sourceId": 8339222,
     "sourceType": "datasetVersion"
    }
   ],
   "dockerImageVersionId": 30698,
   "isGpuEnabled": false,
   "isInternetEnabled": false,
   "language": "python",
   "sourceType": "notebook"
  },
  "kernelspec": {
   "display_name": "Python 3",
   "language": "python",
   "name": "python3"
  },
  "language_info": {
   "codemirror_mode": {
    "name": "ipython",
    "version": 3
   },
   "file_extension": ".py",
   "mimetype": "text/x-python",
   "name": "python",
   "nbconvert_exporter": "python",
   "pygments_lexer": "ipython3",
   "version": "3.10.13"
  },
  "papermill": {
   "default_parameters": {},
   "duration": 7.341311,
   "end_time": "2024-06-30T08:53:27.734088",
   "environment_variables": {},
   "exception": null,
   "input_path": "__notebook__.ipynb",
   "output_path": "__notebook__.ipynb",
   "parameters": {},
   "start_time": "2024-06-30T08:53:20.392777",
   "version": "2.5.0"
  }
 },
 "nbformat": 4,
 "nbformat_minor": 5
}
